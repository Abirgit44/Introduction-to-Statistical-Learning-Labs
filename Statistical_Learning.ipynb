{
 "cells": [
  {
   "cell_type": "markdown",
   "id": "1b52a4e2-1c43-4655-b47a-f9b153d62497",
   "metadata": {},
   "source": [
    "# Basic Commands"
   ]
  },
  {
   "cell_type": "code",
   "execution_count": 8,
   "id": "f18388bf-7a13-4317-9caa-cb2014bb9cb2",
   "metadata": {},
   "outputs": [
    {
     "data": {
      "text/html": [
       "<ol class=list-inline>\n",
       "\t<li>1</li>\n",
       "\t<li>3</li>\n",
       "\t<li>2</li>\n",
       "\t<li>5</li>\n",
       "</ol>\n"
      ],
      "text/latex": [
       "\\begin{enumerate*}\n",
       "\\item 1\n",
       "\\item 3\n",
       "\\item 2\n",
       "\\item 5\n",
       "\\end{enumerate*}\n"
      ],
      "text/markdown": [
       "1. 1\n",
       "2. 3\n",
       "3. 2\n",
       "4. 5\n",
       "\n",
       "\n"
      ],
      "text/plain": [
       "[1] 1 3 2 5"
      ]
     },
     "metadata": {},
     "output_type": "display_data"
    }
   ],
   "source": [
    "x <- c(1,3,2,5) #to concatenate and assign to x vector\n",
    "x"
   ]
  },
  {
   "cell_type": "code",
   "execution_count": 2,
   "id": "b9396832-2dfc-4fe0-85cb-16311350ccf1",
   "metadata": {},
   "outputs": [
    {
     "data": {
      "text/html": [
       "<ol class=list-inline>\n",
       "\t<li>1</li>\n",
       "\t<li>6</li>\n",
       "\t<li>2</li>\n",
       "</ol>\n"
      ],
      "text/latex": [
       "\\begin{enumerate*}\n",
       "\\item 1\n",
       "\\item 6\n",
       "\\item 2\n",
       "\\end{enumerate*}\n"
      ],
      "text/markdown": [
       "1. 1\n",
       "2. 6\n",
       "3. 2\n",
       "\n",
       "\n"
      ],
      "text/plain": [
       "[1] 1 6 2"
      ]
     },
     "metadata": {},
     "output_type": "display_data"
    }
   ],
   "source": [
    "x = c(1,6,2)\n",
    "x\n",
    "y = c(1,4,3)"
   ]
  },
  {
   "cell_type": "code",
   "execution_count": 3,
   "id": "a02bd221-f140-4045-827b-0b3cad6cea38",
   "metadata": {},
   "outputs": [
    {
     "data": {
      "text/html": [
       "3"
      ],
      "text/latex": [
       "3"
      ],
      "text/markdown": [
       "3"
      ],
      "text/plain": [
       "[1] 3"
      ]
     },
     "metadata": {},
     "output_type": "display_data"
    },
    {
     "data": {
      "text/html": [
       "3"
      ],
      "text/latex": [
       "3"
      ],
      "text/markdown": [
       "3"
      ],
      "text/plain": [
       "[1] 3"
      ]
     },
     "metadata": {},
     "output_type": "display_data"
    }
   ],
   "source": [
    "length(x)\n",
    "length(y)"
   ]
  },
  {
   "cell_type": "code",
   "execution_count": 4,
   "id": "2b2e2a8f-03e6-4c5b-8d50-3a9777e83464",
   "metadata": {},
   "outputs": [
    {
     "data": {
      "text/html": [
       "<ol class=list-inline>\n",
       "\t<li>2</li>\n",
       "\t<li>10</li>\n",
       "\t<li>5</li>\n",
       "</ol>\n"
      ],
      "text/latex": [
       "\\begin{enumerate*}\n",
       "\\item 2\n",
       "\\item 10\n",
       "\\item 5\n",
       "\\end{enumerate*}\n"
      ],
      "text/markdown": [
       "1. 2\n",
       "2. 10\n",
       "3. 5\n",
       "\n",
       "\n"
      ],
      "text/plain": [
       "[1]  2 10  5"
      ]
     },
     "metadata": {},
     "output_type": "display_data"
    }
   ],
   "source": [
    "x+y"
   ]
  },
  {
   "cell_type": "code",
   "execution_count": 7,
   "id": "87263e2a-6c29-45e6-86cb-96834f024f18",
   "metadata": {},
   "outputs": [
    {
     "data": {
      "text/html": [
       "<ol class=list-inline>\n",
       "\t<li>'x'</li>\n",
       "\t<li>'y'</li>\n",
       "</ol>\n"
      ],
      "text/latex": [
       "\\begin{enumerate*}\n",
       "\\item 'x'\n",
       "\\item 'y'\n",
       "\\end{enumerate*}\n"
      ],
      "text/markdown": [
       "1. 'x'\n",
       "2. 'y'\n",
       "\n",
       "\n"
      ],
      "text/plain": [
       "[1] \"x\" \"y\""
      ]
     },
     "metadata": {},
     "output_type": "display_data"
    }
   ],
   "source": [
    "ls() #to show the number of vector present"
   ]
  },
  {
   "cell_type": "code",
   "execution_count": 9,
   "id": "6f9a835b-df6d-4fc9-9b3c-4b131ab35280",
   "metadata": {},
   "outputs": [
    {
     "data": {
      "text/html": [],
      "text/latex": [],
      "text/markdown": [],
      "text/plain": [
       "character(0)"
      ]
     },
     "metadata": {},
     "output_type": "display_data"
    }
   ],
   "source": [
    "rm(x,y) #to remove the vectors\n",
    "ls()\n",
    "#to remove bulk: rm(list=ls())"
   ]
  },
  {
   "cell_type": "code",
   "execution_count": 10,
   "id": "18b9c406-59e5-45c2-b019-81dbec4fd620",
   "metadata": {},
   "outputs": [
    {
     "data": {
      "text/html": [
       "\n",
       "<table width=\"100%\" summary=\"page for matrix {base}\"><tr><td>matrix {base}</td><td style=\"text-align: right;\">R Documentation</td></tr></table>\n",
       "\n",
       "<h2>Matrices</h2>\n",
       "\n",
       "<h3>Description</h3>\n",
       "\n",
       "<p><code>matrix</code> creates a matrix from the given set of values.\n",
       "</p>\n",
       "<p><code>as.matrix</code> attempts to turn its argument into a matrix.\n",
       "</p>\n",
       "<p><code>is.matrix</code> tests if its argument is a (strict) matrix.\n",
       "</p>\n",
       "\n",
       "\n",
       "<h3>Usage</h3>\n",
       "\n",
       "<pre>\n",
       "matrix(data = NA, nrow = 1, ncol = 1, byrow = FALSE,\n",
       "       dimnames = NULL)\n",
       "\n",
       "as.matrix(x, ...)\n",
       "## S3 method for class 'data.frame'\n",
       "as.matrix(x, rownames.force = NA, ...)\n",
       "\n",
       "is.matrix(x)\n",
       "</pre>\n",
       "\n",
       "\n",
       "<h3>Arguments</h3>\n",
       "\n",
       "<table summary=\"R argblock\">\n",
       "<tr valign=\"top\"><td><code>data</code></td>\n",
       "<td>\n",
       "<p>an optional data vector (including a list or\n",
       "<code>expression</code> vector).  Non-atomic classed <span style=\"font-family: Courier New, Courier; color: #666666;\"><b>R</b></span> objects are\n",
       "coerced by <code>as.vector</code> and all attributes discarded.</p>\n",
       "</td></tr>\n",
       "<tr valign=\"top\"><td><code>nrow</code></td>\n",
       "<td>\n",
       "<p>the desired number of rows.</p>\n",
       "</td></tr>\n",
       "<tr valign=\"top\"><td><code>ncol</code></td>\n",
       "<td>\n",
       "<p>the desired number of columns.</p>\n",
       "</td></tr>\n",
       "<tr valign=\"top\"><td><code>byrow</code></td>\n",
       "<td>\n",
       "<p>logical. If <code>FALSE</code> (the default) the matrix is\n",
       "filled by columns, otherwise the matrix is filled by rows.</p>\n",
       "</td></tr>\n",
       "<tr valign=\"top\"><td><code>dimnames</code></td>\n",
       "<td>\n",
       "<p>A <code>dimnames</code> attribute for the matrix:\n",
       "<code>NULL</code> or a <code>list</code> of length 2 giving the row and column\n",
       "names respectively.  An empty list is treated as <code>NULL</code>, and a\n",
       "list of length one as row names.  The list can be named, and the\n",
       "list names will be used as names for the dimensions.</p>\n",
       "</td></tr>\n",
       "<tr valign=\"top\"><td><code>x</code></td>\n",
       "<td>\n",
       "<p>an <span style=\"font-family: Courier New, Courier; color: #666666;\"><b>R</b></span> object.</p>\n",
       "</td></tr>\n",
       "<tr valign=\"top\"><td><code>...</code></td>\n",
       "<td>\n",
       "<p>additional arguments to be passed to or from methods.</p>\n",
       "</td></tr>\n",
       "<tr valign=\"top\"><td><code>rownames.force</code></td>\n",
       "<td>\n",
       "<p>logical indicating if the resulting matrix\n",
       "should have character (rather than <code>NULL</code>)\n",
       "<code>rownames</code>.  The default, <code>NA</code>, uses <code>NULL</code>\n",
       "rownames if the data frame has &lsquo;automatic&rsquo; row.names or for a\n",
       "zero-row data frame.</p>\n",
       "</td></tr>\n",
       "</table>\n",
       "\n",
       "\n",
       "<h3>Details</h3>\n",
       "\n",
       "<p>If one of <code>nrow</code> or <code>ncol</code> is not given, an attempt is\n",
       "made to infer it from the length of <code>data</code> and the other\n",
       "parameter.  If neither is given, a one-column matrix is returned.\n",
       "</p>\n",
       "<p>If there are too few elements in <code>data</code> to fill the matrix,\n",
       "then the elements in <code>data</code> are recycled.  If <code>data</code> has\n",
       "length zero, <code>NA</code> of an appropriate type is used for atomic\n",
       "vectors (<code>0</code> for raw vectors) and <code>NULL</code> for lists.\n",
       "</p>\n",
       "<p><code>is.matrix</code> returns <code>TRUE</code> if <code>x</code> is a vector and has a\n",
       "<code>\"dim\"</code> attribute of length 2 and <code>FALSE</code> otherwise.\n",
       "Note that a <code>data.frame</code> is <strong>not</strong> a matrix by this\n",
       "test.  The function is generic: you can write methods to handle\n",
       "specific classes of objects, see InternalMethods.\n",
       "</p>\n",
       "<p><code>as.matrix</code> is a generic function.  The method for data frames\n",
       "will return a character matrix if there is only atomic columns and any\n",
       "non-(numeric/logical/complex) column, applying <code>as.vector</code>\n",
       "to factors and <code>format</code> to other non-character columns.\n",
       "Otherwise, the usual coercion hierarchy (logical &lt; integer &lt; double &lt;\n",
       "complex) will be used, e.g., all-logical data frames will be coerced\n",
       "to a logical matrix, mixed logical-integer will give a integer matrix,\n",
       "etc.\n",
       "</p>\n",
       "<p>The default method for <code>as.matrix</code> calls <code>as.vector(x)</code>, and\n",
       "hence e.g. coerces factors to character vectors.\n",
       "</p>\n",
       "<p>When coercing a vector, it produces a one-column matrix, and\n",
       "promotes the names (if any) of the vector to the rownames of the matrix.\n",
       "</p>\n",
       "<p><code>is.matrix</code> is a primitive function.\n",
       "</p>\n",
       "<p>The <code>print</code> method for a matrix gives a rectangular layout with\n",
       "dimnames or indices.  For a list matrix, the entries of length not\n",
       "one are printed in  the form <span class=\"samp\">integer,7</span> indicating the type\n",
       "and length.\n",
       "</p>\n",
       "\n",
       "\n",
       "<h3>Note</h3>\n",
       "\n",
       "<p>If you just want to convert a vector to a matrix, something like\n",
       "</p>\n",
       "<pre>  dim(x) &lt;- c(nx, ny)\n",
       "  dimnames(x) &lt;- list(row_names, col_names)\n",
       "</pre>\n",
       "<p>will avoid duplicating <code>x</code>.\n",
       "</p>\n",
       "\n",
       "\n",
       "<h3>References</h3>\n",
       "\n",
       "<p>Becker, R. A., Chambers, J. M. and Wilks, A. R. (1988)\n",
       "<em>The New S Language</em>.\n",
       "Wadsworth &amp; Brooks/Cole.\n",
       "</p>\n",
       "\n",
       "\n",
       "<h3>See Also</h3>\n",
       "\n",
       "<p><code>data.matrix</code>, which attempts to convert to a numeric\n",
       "matrix.\n",
       "</p>\n",
       "<p>A matrix is the special case of a two-dimensional <code>array</code>.\n",
       "</p>\n",
       "\n",
       "\n",
       "<h3>Examples</h3>\n",
       "\n",
       "<pre>\n",
       "is.matrix(as.matrix(1:10))\n",
       "!is.matrix(warpbreaks)  # data.frame, NOT matrix!\n",
       "warpbreaks[1:10,]\n",
       "as.matrix(warpbreaks[1:10,])  # using as.matrix.data.frame(.) method\n",
       "\n",
       "## Example of setting row and column names\n",
       "mdat &lt;- matrix(c(1,2,3, 11,12,13), nrow = 2, ncol = 3, byrow = TRUE,\n",
       "               dimnames = list(c(\"row1\", \"row2\"),\n",
       "                               c(\"C.1\", \"C.2\", \"C.3\")))\n",
       "mdat\n",
       "</pre>\n",
       "\n",
       "<hr /><div style=\"text-align: center;\">[Package <em>base</em> version 3.6.1 ]</div>"
      ],
      "text/latex": [
       "\\inputencoding{utf8}\n",
       "\\HeaderA{matrix}{Matrices}{matrix}\n",
       "\\aliasA{as.matrix}{matrix}{as.matrix}\n",
       "\\methaliasA{as.matrix.data.frame}{matrix}{as.matrix.data.frame}\n",
       "\\methaliasA{as.matrix.default}{matrix}{as.matrix.default}\n",
       "\\aliasA{is.matrix}{matrix}{is.matrix}\n",
       "\\keyword{array}{matrix}\n",
       "\\keyword{algebra}{matrix}\n",
       "%\n",
       "\\begin{Description}\\relax\n",
       "\\code{matrix} creates a matrix from the given set of values.\n",
       "\n",
       "\\code{as.matrix} attempts to turn its argument into a matrix.\n",
       "\n",
       "\\code{is.matrix} tests if its argument is a (strict) matrix.\n",
       "\\end{Description}\n",
       "%\n",
       "\\begin{Usage}\n",
       "\\begin{verbatim}\n",
       "matrix(data = NA, nrow = 1, ncol = 1, byrow = FALSE,\n",
       "       dimnames = NULL)\n",
       "\n",
       "as.matrix(x, ...)\n",
       "## S3 method for class 'data.frame'\n",
       "as.matrix(x, rownames.force = NA, ...)\n",
       "\n",
       "is.matrix(x)\n",
       "\\end{verbatim}\n",
       "\\end{Usage}\n",
       "%\n",
       "\\begin{Arguments}\n",
       "\\begin{ldescription}\n",
       "\\item[\\code{data}] an optional data vector (including a list or\n",
       "\\code{\\LinkA{expression}{expression}} vector).  Non-atomic classed \\R{} objects are\n",
       "coerced by \\code{\\LinkA{as.vector}{as.vector}} and all attributes discarded.\n",
       "\\item[\\code{nrow}] the desired number of rows.\n",
       "\\item[\\code{ncol}] the desired number of columns.\n",
       "\\item[\\code{byrow}] logical. If \\code{FALSE} (the default) the matrix is\n",
       "filled by columns, otherwise the matrix is filled by rows.\n",
       "\\item[\\code{dimnames}] A \\code{\\LinkA{dimnames}{dimnames}} attribute for the matrix:\n",
       "\\code{NULL} or a \\code{list} of length 2 giving the row and column\n",
       "names respectively.  An empty list is treated as \\code{NULL}, and a\n",
       "list of length one as row names.  The list can be named, and the\n",
       "list names will be used as names for the dimensions.\n",
       "\\item[\\code{x}] an \\R{} object.\n",
       "\\item[\\code{...}] additional arguments to be passed to or from methods.\n",
       "\\item[\\code{rownames.force}] logical indicating if the resulting matrix\n",
       "should have character (rather than \\code{NULL})\n",
       "\\code{\\LinkA{rownames}{rownames}}.  The default, \\code{NA}, uses \\code{NULL}\n",
       "rownames if the data frame has `automatic' row.names or for a\n",
       "zero-row data frame.\n",
       "\\end{ldescription}\n",
       "\\end{Arguments}\n",
       "%\n",
       "\\begin{Details}\\relax\n",
       "If one of \\code{nrow} or \\code{ncol} is not given, an attempt is\n",
       "made to infer it from the length of \\code{data} and the other\n",
       "parameter.  If neither is given, a one-column matrix is returned.\n",
       "\n",
       "If there are too few elements in \\code{data} to fill the matrix,\n",
       "then the elements in \\code{data} are recycled.  If \\code{data} has\n",
       "length zero, \\code{NA} of an appropriate type is used for atomic\n",
       "vectors (\\code{0} for raw vectors) and \\code{NULL} for lists.\n",
       "\n",
       "\\code{is.matrix} returns \\code{TRUE} if \\code{x} is a vector and has a\n",
       "\\code{\"\\LinkA{dim}{dim}\"} attribute of length 2 and \\code{FALSE} otherwise.\n",
       "Note that a \\code{\\LinkA{data.frame}{data.frame}} is \\strong{not} a matrix by this\n",
       "test.  The function is generic: you can write methods to handle\n",
       "specific classes of objects, see \\LinkA{InternalMethods}{InternalMethods}.\n",
       "\n",
       "\\code{as.matrix} is a generic function.  The method for data frames\n",
       "will return a character matrix if there is only atomic columns and any\n",
       "non-(numeric/logical/complex) column, applying \\code{\\LinkA{as.vector}{as.vector}}\n",
       "to factors and \\code{\\LinkA{format}{format}} to other non-character columns.\n",
       "Otherwise, the usual coercion hierarchy (logical < integer < double <\n",
       "complex) will be used, e.g., all-logical data frames will be coerced\n",
       "to a logical matrix, mixed logical-integer will give a integer matrix,\n",
       "etc.\n",
       "\n",
       "The default method for \\code{as.matrix} calls \\code{as.vector(x)}, and\n",
       "hence e.g.~coerces factors to character vectors.\n",
       "\n",
       "When coercing a vector, it produces a one-column matrix, and\n",
       "promotes the names (if any) of the vector to the rownames of the matrix.\n",
       "\n",
       "\\code{is.matrix} is a \\LinkA{primitive}{primitive} function.\n",
       "\n",
       "The \\code{print} method for a matrix gives a rectangular layout with\n",
       "dimnames or indices.  For a list matrix, the entries of length not\n",
       "one are printed in  the form \\samp{integer,7} indicating the type\n",
       "and length.\n",
       "\\end{Details}\n",
       "%\n",
       "\\begin{Note}\\relax\n",
       "If you just want to convert a vector to a matrix, something like\n",
       "\\begin{alltt}  dim(x) <- c(nx, ny)\n",
       "  dimnames(x) <- list(row_names, col_names)\n",
       "\\end{alltt}\n",
       "\n",
       "will avoid duplicating \\code{x}.\n",
       "\\end{Note}\n",
       "%\n",
       "\\begin{References}\\relax\n",
       "Becker, R. A., Chambers, J. M. and Wilks, A. R. (1988)\n",
       "\\emph{The New S Language}.\n",
       "Wadsworth \\& Brooks/Cole.\n",
       "\\end{References}\n",
       "%\n",
       "\\begin{SeeAlso}\\relax\n",
       "\\code{\\LinkA{data.matrix}{data.matrix}}, which attempts to convert to a numeric\n",
       "matrix.\n",
       "\n",
       "A matrix is the special case of a two-dimensional \\code{\\LinkA{array}{array}}.\n",
       "\\end{SeeAlso}\n",
       "%\n",
       "\\begin{Examples}\n",
       "\\begin{ExampleCode}\n",
       "is.matrix(as.matrix(1:10))\n",
       "!is.matrix(warpbreaks)  # data.frame, NOT matrix!\n",
       "warpbreaks[1:10,]\n",
       "as.matrix(warpbreaks[1:10,])  # using as.matrix.data.frame(.) method\n",
       "\n",
       "## Example of setting row and column names\n",
       "mdat <- matrix(c(1,2,3, 11,12,13), nrow = 2, ncol = 3, byrow = TRUE,\n",
       "               dimnames = list(c(\"row1\", \"row2\"),\n",
       "                               c(\"C.1\", \"C.2\", \"C.3\")))\n",
       "mdat\n",
       "\\end{ExampleCode}\n",
       "\\end{Examples}"
      ],
      "text/plain": [
       "matrix                  package:base                   R Documentation\n",
       "\n",
       "_\bM_\ba_\bt_\br_\bi_\bc_\be_\bs\n",
       "\n",
       "_\bD_\be_\bs_\bc_\br_\bi_\bp_\bt_\bi_\bo_\bn:\n",
       "\n",
       "     'matrix' creates a matrix from the given set of values.\n",
       "\n",
       "     'as.matrix' attempts to turn its argument into a matrix.\n",
       "\n",
       "     'is.matrix' tests if its argument is a (strict) matrix.\n",
       "\n",
       "_\bU_\bs_\ba_\bg_\be:\n",
       "\n",
       "     matrix(data = NA, nrow = 1, ncol = 1, byrow = FALSE,\n",
       "            dimnames = NULL)\n",
       "     \n",
       "     as.matrix(x, ...)\n",
       "     ## S3 method for class 'data.frame'\n",
       "     as.matrix(x, rownames.force = NA, ...)\n",
       "     \n",
       "     is.matrix(x)\n",
       "     \n",
       "_\bA_\br_\bg_\bu_\bm_\be_\bn_\bt_\bs:\n",
       "\n",
       "    data: an optional data vector (including a list or 'expression'\n",
       "          vector).  Non-atomic classed R objects are coerced by\n",
       "          'as.vector' and all attributes discarded.\n",
       "\n",
       "    nrow: the desired number of rows.\n",
       "\n",
       "    ncol: the desired number of columns.\n",
       "\n",
       "   byrow: logical. If 'FALSE' (the default) the matrix is filled by\n",
       "          columns, otherwise the matrix is filled by rows.\n",
       "\n",
       "dimnames: A 'dimnames' attribute for the matrix: 'NULL' or a 'list' of\n",
       "          length 2 giving the row and column names respectively.  An\n",
       "          empty list is treated as 'NULL', and a list of length one as\n",
       "          row names.  The list can be named, and the list names will be\n",
       "          used as names for the dimensions.\n",
       "\n",
       "       x: an R object.\n",
       "\n",
       "     ...: additional arguments to be passed to or from methods.\n",
       "\n",
       "rownames.force: logical indicating if the resulting matrix should have\n",
       "          character (rather than 'NULL') 'rownames'.  The default,\n",
       "          'NA', uses 'NULL' rownames if the data frame has 'automatic'\n",
       "          row.names or for a zero-row data frame.\n",
       "\n",
       "_\bD_\be_\bt_\ba_\bi_\bl_\bs:\n",
       "\n",
       "     If one of 'nrow' or 'ncol' is not given, an attempt is made to\n",
       "     infer it from the length of 'data' and the other parameter.  If\n",
       "     neither is given, a one-column matrix is returned.\n",
       "\n",
       "     If there are too few elements in 'data' to fill the matrix, then\n",
       "     the elements in 'data' are recycled.  If 'data' has length zero,\n",
       "     'NA' of an appropriate type is used for atomic vectors ('0' for\n",
       "     raw vectors) and 'NULL' for lists.\n",
       "\n",
       "     'is.matrix' returns 'TRUE' if 'x' is a vector and has a '\"dim\"'\n",
       "     attribute of length 2 and 'FALSE' otherwise.  Note that a\n",
       "     'data.frame' is *not* a matrix by this test.  The function is\n",
       "     generic: you can write methods to handle specific classes of\n",
       "     objects, see InternalMethods.\n",
       "\n",
       "     'as.matrix' is a generic function.  The method for data frames\n",
       "     will return a character matrix if there is only atomic columns and\n",
       "     any non-(numeric/logical/complex) column, applying 'as.vector' to\n",
       "     factors and 'format' to other non-character columns.  Otherwise,\n",
       "     the usual coercion hierarchy (logical < integer < double <\n",
       "     complex) will be used, e.g., all-logical data frames will be\n",
       "     coerced to a logical matrix, mixed logical-integer will give a\n",
       "     integer matrix, etc.\n",
       "\n",
       "     The default method for 'as.matrix' calls 'as.vector(x)', and hence\n",
       "     e.g. coerces factors to character vectors.\n",
       "\n",
       "     When coercing a vector, it produces a one-column matrix, and\n",
       "     promotes the names (if any) of the vector to the rownames of the\n",
       "     matrix.\n",
       "\n",
       "     'is.matrix' is a primitive function.\n",
       "\n",
       "     The 'print' method for a matrix gives a rectangular layout with\n",
       "     dimnames or indices.  For a list matrix, the entries of length not\n",
       "     one are printed in the form 'integer,7' indicating the type and\n",
       "     length.\n",
       "\n",
       "_\bN_\bo_\bt_\be:\n",
       "\n",
       "     If you just want to convert a vector to a matrix, something like\n",
       "     \n",
       "       dim(x) <- c(nx, ny)\n",
       "       dimnames(x) <- list(row_names, col_names)\n",
       "\n",
       "     will avoid duplicating 'x'.\n",
       "\n",
       "_\bR_\be_\bf_\be_\br_\be_\bn_\bc_\be_\bs:\n",
       "\n",
       "     Becker, R. A., Chambers, J. M. and Wilks, A. R. (1988) _The New S\n",
       "     Language_.  Wadsworth & Brooks/Cole.\n",
       "\n",
       "_\bS_\be_\be _\bA_\bl_\bs_\bo:\n",
       "\n",
       "     'data.matrix', which attempts to convert to a numeric matrix.\n",
       "\n",
       "     A matrix is the special case of a two-dimensional 'array'.\n",
       "\n",
       "_\bE_\bx_\ba_\bm_\bp_\bl_\be_\bs:\n",
       "\n",
       "     is.matrix(as.matrix(1:10))\n",
       "     !is.matrix(warpbreaks)  # data.frame, NOT matrix!\n",
       "     warpbreaks[1:10,]\n",
       "     as.matrix(warpbreaks[1:10,])  # using as.matrix.data.frame(.) method\n",
       "     \n",
       "     ## Example of setting row and column names\n",
       "     mdat <- matrix(c(1,2,3, 11,12,13), nrow = 2, ncol = 3, byrow = TRUE,\n",
       "                    dimnames = list(c(\"row1\", \"row2\"),\n",
       "                                    c(\"C.1\", \"C.2\", \"C.3\")))\n",
       "     mdat\n",
       "     "
      ]
     },
     "metadata": {},
     "output_type": "display_data"
    }
   ],
   "source": [
    "?matrix #matrix documentation"
   ]
  },
  {
   "cell_type": "code",
   "execution_count": 11,
   "id": "1ffc04e7-4afc-49c4-b743-28b0193a526a",
   "metadata": {},
   "outputs": [
    {
     "data": {
      "text/html": [
       "<table>\n",
       "<tbody>\n",
       "\t<tr><td>1</td><td>3</td></tr>\n",
       "\t<tr><td>2</td><td>4</td></tr>\n",
       "</tbody>\n",
       "</table>\n"
      ],
      "text/latex": [
       "\\begin{tabular}{ll}\n",
       "\t 1 & 3\\\\\n",
       "\t 2 & 4\\\\\n",
       "\\end{tabular}\n"
      ],
      "text/markdown": [
       "\n",
       "| 1 | 3 |\n",
       "| 2 | 4 |\n",
       "\n"
      ],
      "text/plain": [
       "     [,1] [,2]\n",
       "[1,] 1    3   \n",
       "[2,] 2    4   "
      ]
     },
     "metadata": {},
     "output_type": "display_data"
    }
   ],
   "source": [
    "x=matrix(data=c(1,2,3,4), nrow=2, ncol=2)\n",
    "x \n",
    "#there is no need generally to show data, row and column number to be assigned for that one can run:\n",
    "#x=matrix(c(1,2,3,4),2,2)"
   ]
  },
  {
   "cell_type": "code",
   "execution_count": 12,
   "id": "168e6884-5fba-432d-a206-80fa2f020044",
   "metadata": {},
   "outputs": [
    {
     "data": {
      "text/html": [
       "<table>\n",
       "<tbody>\n",
       "\t<tr><td>1</td><td>2</td></tr>\n",
       "\t<tr><td>3</td><td>4</td></tr>\n",
       "</tbody>\n",
       "</table>\n"
      ],
      "text/latex": [
       "\\begin{tabular}{ll}\n",
       "\t 1 & 2\\\\\n",
       "\t 3 & 4\\\\\n",
       "\\end{tabular}\n"
      ],
      "text/markdown": [
       "\n",
       "| 1 | 2 |\n",
       "| 3 | 4 |\n",
       "\n"
      ],
      "text/plain": [
       "     [,1] [,2]\n",
       "[1,] 1    2   \n",
       "[2,] 3    4   "
      ]
     },
     "metadata": {},
     "output_type": "display_data"
    }
   ],
   "source": [
    "#if one needs to change the way data sequenced in Matrix:\n",
    "matrix(c(1,2,3,4),2,2,byrow=TRUE)"
   ]
  },
  {
   "cell_type": "code",
   "execution_count": 13,
   "id": "3b77eed5-30b1-40ee-a945-d479e168ebd2",
   "metadata": {},
   "outputs": [
    {
     "data": {
      "text/html": [
       "<table>\n",
       "<tbody>\n",
       "\t<tr><td>1.000000</td><td>1.732051</td></tr>\n",
       "\t<tr><td>1.414214</td><td>2.000000</td></tr>\n",
       "</tbody>\n",
       "</table>\n"
      ],
      "text/latex": [
       "\\begin{tabular}{ll}\n",
       "\t 1.000000 & 1.732051\\\\\n",
       "\t 1.414214 & 2.000000\\\\\n",
       "\\end{tabular}\n"
      ],
      "text/markdown": [
       "\n",
       "| 1.000000 | 1.732051 |\n",
       "| 1.414214 | 2.000000 |\n",
       "\n"
      ],
      "text/plain": [
       "     [,1]     [,2]    \n",
       "[1,] 1.000000 1.732051\n",
       "[2,] 1.414214 2.000000"
      ]
     },
     "metadata": {},
     "output_type": "display_data"
    },
    {
     "data": {
      "text/html": [
       "<table>\n",
       "<tbody>\n",
       "\t<tr><td>1 </td><td> 9</td></tr>\n",
       "\t<tr><td>4 </td><td>16</td></tr>\n",
       "</tbody>\n",
       "</table>\n"
      ],
      "text/latex": [
       "\\begin{tabular}{ll}\n",
       "\t 1  &  9\\\\\n",
       "\t 4  & 16\\\\\n",
       "\\end{tabular}\n"
      ],
      "text/markdown": [
       "\n",
       "| 1  |  9 |\n",
       "| 4  | 16 |\n",
       "\n"
      ],
      "text/plain": [
       "     [,1] [,2]\n",
       "[1,] 1     9  \n",
       "[2,] 4    16  "
      ]
     },
     "metadata": {},
     "output_type": "display_data"
    }
   ],
   "source": [
    "#some operations\n",
    "sqrt(x)\n",
    "x^2"
   ]
  },
  {
   "cell_type": "code",
   "execution_count": 15,
   "id": "aae791b9-c40e-4e15-9943-b1b2fe0e39e2",
   "metadata": {},
   "outputs": [
    {
     "data": {
      "text/html": [
       "0.996767237884695"
      ],
      "text/latex": [
       "0.996767237884695"
      ],
      "text/markdown": [
       "0.996767237884695"
      ],
      "text/plain": [
       "[1] 0.9967672"
      ]
     },
     "metadata": {},
     "output_type": "display_data"
    }
   ],
   "source": [
    "#generating random number matrices\n",
    "x=rnorm(50)\n",
    "y=x+rnorm(50,mean=50,sd=.1)\n",
    "#seeing the corelation\n",
    "cor(x,y)"
   ]
  },
  {
   "cell_type": "code",
   "execution_count": 16,
   "id": "bb60337d-2089-45bd-9781-ae7158b3458a",
   "metadata": {},
   "outputs": [
    {
     "data": {
      "text/html": [
       "<ol class=list-inline>\n",
       "\t<li>-1.14397631447974</li>\n",
       "\t<li>1.34212936561501</li>\n",
       "\t<li>2.18539047574276</li>\n",
       "\t<li>0.536392517923731</li>\n",
       "\t<li>0.0631929664685468</li>\n",
       "\t<li>0.502234482468979</li>\n",
       "\t<li>-0.000416724686432643</li>\n",
       "\t<li>0.565819840539162</li>\n",
       "\t<li>-0.572522688962623</li>\n",
       "\t<li>-1.11022500727696</li>\n",
       "\t<li>-0.0486871233624514</li>\n",
       "\t<li>-0.695656217619366</li>\n",
       "\t<li>0.828917480303335</li>\n",
       "\t<li>0.206652855081802</li>\n",
       "\t<li>-0.235674509102427</li>\n",
       "\t<li>-0.556310491381104</li>\n",
       "\t<li>-0.364754357080585</li>\n",
       "\t<li>0.862355034263622</li>\n",
       "\t<li>-0.63077153536771</li>\n",
       "\t<li>0.313602125215739</li>\n",
       "\t<li>-0.931495317661393</li>\n",
       "\t<li>0.823867618473952</li>\n",
       "\t<li>0.523370702077482</li>\n",
       "\t<li>0.706921411979056</li>\n",
       "\t<li>0.420204325601679</li>\n",
       "\t<li>-0.269052154682033</li>\n",
       "\t<li>-1.51031729990999</li>\n",
       "\t<li>-0.69021247657504</li>\n",
       "\t<li>-0.143471952443572</li>\n",
       "\t<li>-1.0135274099044</li>\n",
       "\t<li>1.57327373614751</li>\n",
       "\t<li>0.0127465054882014</li>\n",
       "\t<li>0.872647049887217</li>\n",
       "\t<li>0.422066190530336</li>\n",
       "\t<li>-0.0188157916578866</li>\n",
       "\t<li>2.61574896890584</li>\n",
       "\t<li>-0.693140174826871</li>\n",
       "\t<li>-0.266321780991085</li>\n",
       "\t<li>-0.720636441231524</li>\n",
       "\t<li>1.36773420645149</li>\n",
       "\t<li>0.264007332160512</li>\n",
       "\t<li>0.632186807367191</li>\n",
       "\t<li>-1.33065098578719</li>\n",
       "\t<li>0.0268888182209596</li>\n",
       "\t<li>1.0406363207788</li>\n",
       "\t<li>1.31202379854711</li>\n",
       "\t<li>-0.0300020766733214</li>\n",
       "\t<li>-0.250025712488174</li>\n",
       "\t<li>0.0234144856913592</li>\n",
       "\t<li>1.65987065574227</li>\n",
       "</ol>\n"
      ],
      "text/latex": [
       "\\begin{enumerate*}\n",
       "\\item -1.14397631447974\n",
       "\\item 1.34212936561501\n",
       "\\item 2.18539047574276\n",
       "\\item 0.536392517923731\n",
       "\\item 0.0631929664685468\n",
       "\\item 0.502234482468979\n",
       "\\item -0.000416724686432643\n",
       "\\item 0.565819840539162\n",
       "\\item -0.572522688962623\n",
       "\\item -1.11022500727696\n",
       "\\item -0.0486871233624514\n",
       "\\item -0.695656217619366\n",
       "\\item 0.828917480303335\n",
       "\\item 0.206652855081802\n",
       "\\item -0.235674509102427\n",
       "\\item -0.556310491381104\n",
       "\\item -0.364754357080585\n",
       "\\item 0.862355034263622\n",
       "\\item -0.63077153536771\n",
       "\\item 0.313602125215739\n",
       "\\item -0.931495317661393\n",
       "\\item 0.823867618473952\n",
       "\\item 0.523370702077482\n",
       "\\item 0.706921411979056\n",
       "\\item 0.420204325601679\n",
       "\\item -0.269052154682033\n",
       "\\item -1.51031729990999\n",
       "\\item -0.69021247657504\n",
       "\\item -0.143471952443572\n",
       "\\item -1.0135274099044\n",
       "\\item 1.57327373614751\n",
       "\\item 0.0127465054882014\n",
       "\\item 0.872647049887217\n",
       "\\item 0.422066190530336\n",
       "\\item -0.0188157916578866\n",
       "\\item 2.61574896890584\n",
       "\\item -0.693140174826871\n",
       "\\item -0.266321780991085\n",
       "\\item -0.720636441231524\n",
       "\\item 1.36773420645149\n",
       "\\item 0.264007332160512\n",
       "\\item 0.632186807367191\n",
       "\\item -1.33065098578719\n",
       "\\item 0.0268888182209596\n",
       "\\item 1.0406363207788\n",
       "\\item 1.31202379854711\n",
       "\\item -0.0300020766733214\n",
       "\\item -0.250025712488174\n",
       "\\item 0.0234144856913592\n",
       "\\item 1.65987065574227\n",
       "\\end{enumerate*}\n"
      ],
      "text/markdown": [
       "1. -1.14397631447974\n",
       "2. 1.34212936561501\n",
       "3. 2.18539047574276\n",
       "4. 0.536392517923731\n",
       "5. 0.0631929664685468\n",
       "6. 0.502234482468979\n",
       "7. -0.000416724686432643\n",
       "8. 0.565819840539162\n",
       "9. -0.572522688962623\n",
       "10. -1.11022500727696\n",
       "11. -0.0486871233624514\n",
       "12. -0.695656217619366\n",
       "13. 0.828917480303335\n",
       "14. 0.206652855081802\n",
       "15. -0.235674509102427\n",
       "16. -0.556310491381104\n",
       "17. -0.364754357080585\n",
       "18. 0.862355034263622\n",
       "19. -0.63077153536771\n",
       "20. 0.313602125215739\n",
       "21. -0.931495317661393\n",
       "22. 0.823867618473952\n",
       "23. 0.523370702077482\n",
       "24. 0.706921411979056\n",
       "25. 0.420204325601679\n",
       "26. -0.269052154682033\n",
       "27. -1.51031729990999\n",
       "28. -0.69021247657504\n",
       "29. -0.143471952443572\n",
       "30. -1.0135274099044\n",
       "31. 1.57327373614751\n",
       "32. 0.0127465054882014\n",
       "33. 0.872647049887217\n",
       "34. 0.422066190530336\n",
       "35. -0.0188157916578866\n",
       "36. 2.61574896890584\n",
       "37. -0.693140174826871\n",
       "38. -0.266321780991085\n",
       "39. -0.720636441231524\n",
       "40. 1.36773420645149\n",
       "41. 0.264007332160512\n",
       "42. 0.632186807367191\n",
       "43. -1.33065098578719\n",
       "44. 0.0268888182209596\n",
       "45. 1.0406363207788\n",
       "46. 1.31202379854711\n",
       "47. -0.0300020766733214\n",
       "48. -0.250025712488174\n",
       "49. 0.0234144856913592\n",
       "50. 1.65987065574227\n",
       "\n",
       "\n"
      ],
      "text/plain": [
       " [1] -1.1439763145  1.3421293656  2.1853904757  0.5363925179  0.0631929665\n",
       " [6]  0.5022344825 -0.0004167247  0.5658198405 -0.5725226890 -1.1102250073\n",
       "[11] -0.0486871234 -0.6956562176  0.8289174803  0.2066528551 -0.2356745091\n",
       "[16] -0.5563104914 -0.3647543571  0.8623550343 -0.6307715354  0.3136021252\n",
       "[21] -0.9314953177  0.8238676185  0.5233707021  0.7069214120  0.4202043256\n",
       "[26] -0.2690521547 -1.5103172999 -0.6902124766 -0.1434719524 -1.0135274099\n",
       "[31]  1.5732737361  0.0127465055  0.8726470499  0.4220661905 -0.0188157917\n",
       "[36]  2.6157489689 -0.6931401748 -0.2663217810 -0.7206364412  1.3677342065\n",
       "[41]  0.2640073322  0.6321868074 -1.3306509858  0.0268888182  1.0406363208\n",
       "[46]  1.3120237985 -0.0300020767 -0.2500257125  0.0234144857  1.6598706557"
      ]
     },
     "metadata": {},
     "output_type": "display_data"
    }
   ],
   "source": [
    "#seed is the arbitary integer argument\n",
    "set.seed(1303)\n",
    "rnorm(50)"
   ]
  },
  {
   "cell_type": "code",
   "execution_count": 17,
   "id": "c1118e02-58be-41ba-adf3-44b1c09f6d73",
   "metadata": {},
   "outputs": [
    {
     "data": {
      "text/html": [
       "0.0110355710943715"
      ],
      "text/latex": [
       "0.0110355710943715"
      ],
      "text/markdown": [
       "0.0110355710943715"
      ],
      "text/plain": [
       "[1] 0.01103557"
      ]
     },
     "metadata": {},
     "output_type": "display_data"
    },
    {
     "data": {
      "text/html": [
       "0.732867501277449"
      ],
      "text/latex": [
       "0.732867501277449"
      ],
      "text/markdown": [
       "0.732867501277449"
      ],
      "text/plain": [
       "[1] 0.7328675"
      ]
     },
     "metadata": {},
     "output_type": "display_data"
    },
    {
     "data": {
      "text/html": [
       "0.856076808047881"
      ],
      "text/latex": [
       "0.856076808047881"
      ],
      "text/markdown": [
       "0.856076808047881"
      ],
      "text/plain": [
       "[1] 0.8560768"
      ]
     },
     "metadata": {},
     "output_type": "display_data"
    },
    {
     "data": {
      "text/html": [
       "0.856076808047881"
      ],
      "text/latex": [
       "0.856076808047881"
      ],
      "text/markdown": [
       "0.856076808047881"
      ],
      "text/plain": [
       "[1] 0.8560768"
      ]
     },
     "metadata": {},
     "output_type": "display_data"
    }
   ],
   "source": [
    "#doing further calculations\n",
    "set.seed(3)\n",
    "y=rnorm(100)\n",
    "mean(y)\n",
    "var(y)\n",
    "sqrt(var(y))\n",
    "sd(y)"
   ]
  },
  {
   "cell_type": "markdown",
   "id": "cb6b857a-ec3a-44f6-b461-381694f056a4",
   "metadata": {},
   "source": [
    "# Graphics"
   ]
  },
  {
   "cell_type": "code",
   "execution_count": 18,
   "id": "fd4e899c-9e70-4736-8b21-9bc349373e46",
   "metadata": {},
   "outputs": [
    {
     "data": {
      "image/png": "[encoded data removed]",
      "text/plain": [
       "Plot with title \"Plot of X vs Y\""
      ]
     },
     "metadata": {},
     "output_type": "display_data"
    }
   ],
   "source": [
    "x=rnorm(100)\n",
    "y=rnorm(100)\n",
    "plot(x,y,xlab=\"this is the x-axis\",ylab=\"this is the y-axis\",main=\"Plot of X vs Y\")"
   ]
  },
  {
   "cell_type": "code",
   "execution_count": 19,
   "id": "28693227-c274-4439-b77e-4ef53d402a0b",
   "metadata": {},
   "outputs": [
    {
     "data": {
      "image/png": "[encoded data removed]",
      "text/plain": [
       "plot without title"
      ]
     },
     "metadata": {},
     "output_type": "display_data"
    }
   ],
   "source": [
    "#to save the visualization one can use image() or pdf() command where inside of braces the file name should be there with format mentioned the process goes like\n",
    "#pdf(\"Figure.pdf\") #start\n",
    "plot(x,y,col=\"green\") #targeted image\n",
    "#dev.off() #end"
   ]
  },
  {
   "cell_type": "code",
   "execution_count": 20,
   "id": "7bc185fa-bca4-4f1d-ad5e-739ed7aa7018",
   "metadata": {},
   "outputs": [
    {
     "data": {
      "text/html": [
       "<ol class=list-inline>\n",
       "\t<li>1</li>\n",
       "\t<li>2</li>\n",
       "\t<li>3</li>\n",
       "\t<li>4</li>\n",
       "\t<li>5</li>\n",
       "\t<li>6</li>\n",
       "\t<li>7</li>\n",
       "\t<li>8</li>\n",
       "\t<li>9</li>\n",
       "\t<li>10</li>\n",
       "</ol>\n"
      ],
      "text/latex": [
       "\\begin{enumerate*}\n",
       "\\item 1\n",
       "\\item 2\n",
       "\\item 3\n",
       "\\item 4\n",
       "\\item 5\n",
       "\\item 6\n",
       "\\item 7\n",
       "\\item 8\n",
       "\\item 9\n",
       "\\item 10\n",
       "\\end{enumerate*}\n"
      ],
      "text/markdown": [
       "1. 1\n",
       "2. 2\n",
       "3. 3\n",
       "4. 4\n",
       "5. 5\n",
       "6. 6\n",
       "7. 7\n",
       "8. 8\n",
       "9. 9\n",
       "10. 10\n",
       "\n",
       "\n"
      ],
      "text/plain": [
       " [1]  1  2  3  4  5  6  7  8  9 10"
      ]
     },
     "metadata": {},
     "output_type": "display_data"
    }
   ],
   "source": [
    "#sequencing numbers\n",
    "x=seq(1,10)\n",
    "#also can be done using the following comman:\n",
    "#x=1:10\n",
    "x"
   ]
  },
  {
   "cell_type": "code",
   "execution_count": 21,
   "id": "e62fa910-b399-478b-9115-3dc0f67b1767",
   "metadata": {},
   "outputs": [
    {
     "data": {
      "text/html": [
       "\n",
       "<table width=\"100%\" summary=\"page for contour {graphics}\"><tr><td>contour {graphics}</td><td style=\"text-align: right;\">R Documentation</td></tr></table>\n",
       "\n",
       "<h2>Display Contours</h2>\n",
       "\n",
       "<h3>Description</h3>\n",
       "\n",
       "<p>Create a contour plot, or add contour lines to an existing plot.\n",
       "</p>\n",
       "\n",
       "\n",
       "<h3>Usage</h3>\n",
       "\n",
       "<pre>\n",
       "contour(x, ...)\n",
       "\n",
       "## Default S3 method:\n",
       "contour(x = seq(0, 1, length.out = nrow(z)),\n",
       "        y = seq(0, 1, length.out = ncol(z)),\n",
       "        z,\n",
       "        nlevels = 10, levels = pretty(zlim, nlevels),\n",
       "        labels = NULL,\n",
       "        xlim = range(x, finite = TRUE),\n",
       "        ylim = range(y, finite = TRUE),\n",
       "        zlim = range(z, finite = TRUE),\n",
       "        labcex = 0.6, drawlabels = TRUE, method = \"flattest\",\n",
       "        vfont, axes = TRUE, frame.plot = axes,\n",
       "        col = par(\"fg\"), lty = par(\"lty\"), lwd = par(\"lwd\"),\n",
       "        add = FALSE, ...)\n",
       "</pre>\n",
       "\n",
       "\n",
       "<h3>Arguments</h3>\n",
       "\n",
       "<table summary=\"R argblock\">\n",
       "<tr valign=\"top\"><td><code>x, y</code></td>\n",
       "<td>\n",
       "<p>locations of grid lines at which the values in <code>z</code> are\n",
       "measured.  These must be in ascending order.  By default, equally\n",
       "spaced values from 0 to 1 are used.  If <code>x</code> is a <code>list</code>,\n",
       "its components <code>x$x</code> and <code>x$y</code> are used for <code>x</code>\n",
       "and <code>y</code>, respectively. If the list has component <code>z</code> this\n",
       "is used for <code>z</code>.</p>\n",
       "</td></tr>\n",
       "<tr valign=\"top\"><td><code>z</code></td>\n",
       "<td>\n",
       "<p>a matrix containing the values to be plotted (<code>NA</code>s are\n",
       "allowed).  Note that <code>x</code> can be used instead of <code>z</code> for\n",
       "convenience.</p>\n",
       "</td></tr>\n",
       "<tr valign=\"top\"><td><code>nlevels</code></td>\n",
       "<td>\n",
       "<p>number of contour levels desired <b>iff</b>\n",
       "<code>levels</code> is not supplied.</p>\n",
       "</td></tr>\n",
       "<tr valign=\"top\"><td><code>levels</code></td>\n",
       "<td>\n",
       "<p>numeric vector of levels at which to draw contour\n",
       "lines.</p>\n",
       "</td></tr>\n",
       "<tr valign=\"top\"><td><code>labels</code></td>\n",
       "<td>\n",
       "<p>a vector giving the labels for the contour lines.  If\n",
       "<code>NULL</code> then the levels are used as labels, otherwise this is\n",
       "coerced by <code>as.character</code>.</p>\n",
       "</td></tr>\n",
       "<tr valign=\"top\"><td><code>labcex</code></td>\n",
       "<td>\n",
       "<p><code>cex</code> for contour labelling.  This is an absolute\n",
       "size, not a multiple of <code>par(\"cex\")</code>.</p>\n",
       "</td></tr>\n",
       "<tr valign=\"top\"><td><code>drawlabels</code></td>\n",
       "<td>\n",
       "<p>logical.  Contours are labelled if <code>TRUE</code>.</p>\n",
       "</td></tr>\n",
       "<tr valign=\"top\"><td><code>method</code></td>\n",
       "<td>\n",
       "<p>character string specifying where the labels will be\n",
       "located. Possible values are <code>\"simple\"</code>, <code>\"edge\"</code> and\n",
       "<code>\"flattest\"</code> (the default).  See the &lsquo;Details&rsquo; section.</p>\n",
       "</td></tr>\n",
       "<tr valign=\"top\"><td><code>vfont</code></td>\n",
       "<td>\n",
       "<p>if <code>NULL</code>, the current font family and face are used\n",
       "for the contour labels.  If a character vector of length 2 then\n",
       "Hershey vector fonts are used for the contour labels. The first\n",
       "element of the vector selects a typeface and the second element\n",
       "selects a fontindex (see <code>text</code> for more information).\n",
       "The default is <code>NULL</code> on graphics devices with high-quality\n",
       "rotation of text and <code>c(\"sans serif\", \"plain\")</code> otherwise.</p>\n",
       "</td></tr>\n",
       "<tr valign=\"top\"><td><code>xlim, ylim, zlim</code></td>\n",
       "<td>\n",
       "<p>x-, y- and z-limits for the plot.</p>\n",
       "</td></tr>\n",
       "<tr valign=\"top\"><td><code>axes, frame.plot</code></td>\n",
       "<td>\n",
       "<p>logical indicating whether axes or a box\n",
       "should be drawn, see <code>plot.default</code>.</p>\n",
       "</td></tr>\n",
       "<tr valign=\"top\"><td><code>col</code></td>\n",
       "<td>\n",
       "<p>color for the lines drawn.</p>\n",
       "</td></tr>\n",
       "<tr valign=\"top\"><td><code>lty</code></td>\n",
       "<td>\n",
       "<p>line type for the lines drawn.</p>\n",
       "</td></tr>\n",
       "<tr valign=\"top\"><td><code>lwd</code></td>\n",
       "<td>\n",
       "<p>line width for the lines drawn.</p>\n",
       "</td></tr>\n",
       "<tr valign=\"top\"><td><code>add</code></td>\n",
       "<td>\n",
       "<p>logical. If <code>TRUE</code>, add to a current plot.</p>\n",
       "</td></tr>\n",
       "<tr valign=\"top\"><td><code>...</code></td>\n",
       "<td>\n",
       "<p>additional arguments to <code>plot.window</code>,\n",
       "<code>title</code>, <code>Axis</code> and <code>box</code>,\n",
       "typically graphical parameters such as <code>cex.axis</code>.</p>\n",
       "</td></tr>\n",
       "</table>\n",
       "\n",
       "\n",
       "<h3>Details</h3>\n",
       "\n",
       "<p><code>contour</code> is a generic function with only a default method in\n",
       "base <span style=\"font-family: Courier New, Courier; color: #666666;\"><b>R</b></span>.\n",
       "</p>\n",
       "<p>The methods for positioning the labels on contours are <code>\"simple\"</code>\n",
       "(draw at the edge of the plot, overlaying the contour line),\n",
       "<code>\"edge\"</code> (draw at the edge of the plot, embedded in the contour\n",
       "line, with no labels overlapping) and <code>\"flattest\"</code>\n",
       "(draw on the flattest section of the contour, embedded in the\n",
       "contour line, with no labels overlapping).  The second and third may\n",
       "not draw a label on every contour line.\n",
       "</p>\n",
       "<p>For information about vector fonts, see the\n",
       "help for <code>text</code> and <code>Hershey</code>.\n",
       "</p>\n",
       "<p>Notice that <code>contour</code> interprets the <code>z</code> matrix as a table of\n",
       "<code>f(x[i], y[j])</code> values, so that the x axis corresponds to row\n",
       "number and the y axis to column number, with column 1 at the bottom,\n",
       "i.e. a 90 degree counter-clockwise rotation of the conventional textual\n",
       "layout.\n",
       "</p>\n",
       "<p>Alternatively, use <code>contourplot</code> from the\n",
       "<a href=\"https://CRAN.R-project.org/package=lattice\"><span class=\"pkg\">lattice</span></a> package where the <code>formula</code> notation allows\n",
       "to use vectors <code>x</code>, <code>y</code>, and <code>z</code> of the same length.\n",
       "</p>\n",
       "<p>There is limited control over the axes and frame as arguments\n",
       "<code>col</code>, <code>lwd</code> and <code>lty</code> refer to the contour lines\n",
       "(rather than being general graphical parameters).  For more control,\n",
       "add contours to a plot, or add axes and frame to a contour plot.\n",
       "</p>\n",
       "\n",
       "\n",
       "<h3>References</h3>\n",
       "\n",
       "<p>Becker, R. A., Chambers, J. M. and Wilks, A. R. (1988)\n",
       "<em>The New S Language</em>.\n",
       "Wadsworth &amp; Brooks/Cole.\n",
       "</p>\n",
       "\n",
       "\n",
       "<h3>See Also</h3>\n",
       "\n",
       "<p><code>options(\"max.contour.segments\")</code> for the maximal\n",
       "complexity of a single contour line.\n",
       "</p>\n",
       "<p><code>contourLines</code>, <code>filled.contour</code>\n",
       "for color-filled contours,\n",
       "<code>contourplot</code> (and\n",
       "<code>levelplot</code>) from package <a href=\"https://CRAN.R-project.org/package=lattice\"><span class=\"pkg\">lattice</span></a>.\n",
       "Further, <code>image</code> and the graphics demo which can be\n",
       "invoked as <code>demo(graphics)</code>.\n",
       "</p>\n",
       "\n",
       "\n",
       "<h3>Examples</h3>\n",
       "\n",
       "<pre>\n",
       "require(grDevices) # for colours\n",
       "x &lt;- -6:16\n",
       "op &lt;- par(mfrow = c(2, 2))\n",
       "contour(outer(x, x), method = \"edge\", vfont = c(\"sans serif\", \"plain\"))\n",
       "z &lt;- outer(x, sqrt(abs(x)), FUN = \"/\")\n",
       "image(x, x, z)\n",
       "contour(x, x, z, col = \"pink\", add = TRUE, method = \"edge\",\n",
       "        vfont = c(\"sans serif\", \"plain\"))\n",
       "contour(x, x, z, ylim = c(1, 6), method = \"simple\", labcex = 1,\n",
       "        xlab = quote(x[1]), ylab = quote(x[2]))\n",
       "contour(x, x, z, ylim = c(-6, 6), nlev = 20, lty = 2, method = \"simple\",\n",
       "        main = \"20 levels; \\\"simple\\\" labelling method\")\n",
       "par(op)\n",
       "\n",
       "## Persian Rug Art:\n",
       "x &lt;- y &lt;- seq(-4*pi, 4*pi, len = 27)\n",
       "r &lt;- sqrt(outer(x^2, y^2, \"+\"))\n",
       "opar &lt;- par(mfrow = c(2, 2), mar = rep(0, 4))\n",
       "for(f in pi^(0:3))\n",
       "  contour(cos(r^2)*exp(-r/f),\n",
       "          drawlabels = FALSE, axes = FALSE, frame = TRUE)\n",
       "\n",
       "rx &lt;- range(x &lt;- 10*1:nrow(volcano))\n",
       "ry &lt;- range(y &lt;- 10*1:ncol(volcano))\n",
       "ry &lt;- ry + c(-1, 1) * (diff(rx) - diff(ry))/2\n",
       "tcol &lt;- terrain.colors(12)\n",
       "par(opar); opar &lt;- par(pty = \"s\", bg = \"lightcyan\")\n",
       "plot(x = 0, y = 0, type = \"n\", xlim = rx, ylim = ry, xlab = \"\", ylab = \"\")\n",
       "u &lt;- par(\"usr\")\n",
       "rect(u[1], u[3], u[2], u[4], col = tcol[8], border = \"red\")\n",
       "contour(x, y, volcano, col = tcol[2], lty = \"solid\", add = TRUE,\n",
       "        vfont = c(\"sans serif\", \"plain\"))\n",
       "title(\"A Topographic Map of Maunga Whau\", font = 4)\n",
       "abline(h = 200*0:4, v = 200*0:4, col = \"lightgray\", lty = 2, lwd = 0.1)\n",
       "\n",
       "## contourLines produces the same contour lines as contour\n",
       "plot(x = 0, y = 0, type = \"n\", xlim = rx, ylim = ry, xlab = \"\", ylab = \"\")\n",
       "u &lt;- par(\"usr\")\n",
       "rect(u[1], u[3], u[2], u[4], col = tcol[8], border = \"red\")\n",
       "contour(x, y, volcano, col = tcol[1], lty = \"solid\", add = TRUE,\n",
       "        vfont = c(\"sans serif\", \"plain\"))\n",
       "line.list &lt;- contourLines(x, y, volcano)\n",
       "invisible(lapply(line.list, lines, lwd=3, col=adjustcolor(2, .3)))\n",
       "par(opar)\n",
       "</pre>\n",
       "\n",
       "<hr /><div style=\"text-align: center;\">[Package <em>graphics</em> version 3.6.1 ]</div>"
      ],
      "text/latex": [
       "\\inputencoding{utf8}\n",
       "\\HeaderA{contour}{Display Contours}{contour}\n",
       "\\methaliasA{contour.default}{contour}{contour.default}\n",
       "\\keyword{hplot}{contour}\n",
       "\\keyword{aplot}{contour}\n",
       "%\n",
       "\\begin{Description}\\relax\n",
       "Create a contour plot, or add contour lines to an existing plot.\n",
       "\\end{Description}\n",
       "%\n",
       "\\begin{Usage}\n",
       "\\begin{verbatim}\n",
       "contour(x, ...)\n",
       "\n",
       "## Default S3 method:\n",
       "contour(x = seq(0, 1, length.out = nrow(z)),\n",
       "        y = seq(0, 1, length.out = ncol(z)),\n",
       "        z,\n",
       "        nlevels = 10, levels = pretty(zlim, nlevels),\n",
       "        labels = NULL,\n",
       "        xlim = range(x, finite = TRUE),\n",
       "        ylim = range(y, finite = TRUE),\n",
       "        zlim = range(z, finite = TRUE),\n",
       "        labcex = 0.6, drawlabels = TRUE, method = \"flattest\",\n",
       "        vfont, axes = TRUE, frame.plot = axes,\n",
       "        col = par(\"fg\"), lty = par(\"lty\"), lwd = par(\"lwd\"),\n",
       "        add = FALSE, ...)\n",
       "\\end{verbatim}\n",
       "\\end{Usage}\n",
       "%\n",
       "\\begin{Arguments}\n",
       "\\begin{ldescription}\n",
       "\\item[\\code{x, y}] locations of grid lines at which the values in \\code{z} are\n",
       "measured.  These must be in ascending order.  By default, equally\n",
       "spaced values from 0 to 1 are used.  If \\code{x} is a \\code{list},\n",
       "its components \\code{x\\$x} and \\code{x\\$y} are used for \\code{x}\n",
       "and \\code{y}, respectively. If the list has component \\code{z} this\n",
       "is used for \\code{z}.\n",
       "\\item[\\code{z}] a matrix containing the values to be plotted (\\code{NA}s are\n",
       "allowed).  Note that \\code{x} can be used instead of \\code{z} for\n",
       "convenience.\n",
       "\\item[\\code{nlevels}] number of contour levels desired \\bold{iff}\n",
       "\\code{levels} is not supplied.\n",
       "\\item[\\code{levels}] numeric vector of levels at which to draw contour\n",
       "lines.\n",
       "\\item[\\code{labels}] a vector giving the labels for the contour lines.  If\n",
       "\\code{NULL} then the levels are used as labels, otherwise this is\n",
       "coerced by \\code{\\LinkA{as.character}{as.character}}.\n",
       "\\item[\\code{labcex}] \\code{cex} for contour labelling.  This is an absolute\n",
       "size, not a multiple of \\code{par(\"cex\")}.\n",
       "\\item[\\code{drawlabels}] logical.  Contours are labelled if \\code{TRUE}.\n",
       "\\item[\\code{method}] character string specifying where the labels will be\n",
       "located. Possible values are \\code{\"simple\"}, \\code{\"edge\"} and\n",
       "\\code{\"flattest\"} (the default).  See the `Details' section.\n",
       "\\item[\\code{vfont}] if \\code{NULL}, the current font family and face are used\n",
       "for the contour labels.  If a character vector of length 2 then\n",
       "Hershey vector fonts are used for the contour labels. The first\n",
       "element of the vector selects a typeface and the second element\n",
       "selects a fontindex (see \\code{\\LinkA{text}{text}} for more information).\n",
       "The default is \\code{NULL} on graphics devices with high-quality\n",
       "rotation of text and \\code{c(\"sans serif\", \"plain\")} otherwise.\n",
       "\\item[\\code{xlim, ylim, zlim}] x-, y- and z-limits for the plot.\n",
       "\\item[\\code{axes, frame.plot}] logical indicating whether axes or a box\n",
       "should be drawn, see \\code{\\LinkA{plot.default}{plot.default}}.\n",
       "\\item[\\code{col}] color for the lines drawn.\n",
       "\\item[\\code{lty}] line type for the lines drawn.\n",
       "\\item[\\code{lwd}] line width for the lines drawn.\n",
       "\\item[\\code{add}] logical. If \\code{TRUE}, add to a current plot.\n",
       "\\item[\\code{...}] additional arguments to \\code{\\LinkA{plot.window}{plot.window}},\n",
       "\\code{\\LinkA{title}{title}}, \\code{\\LinkA{Axis}{Axis}} and \\code{\\LinkA{box}{box}},\n",
       "typically \\LinkA{graphical parameters}{graphical parameters} such as \\code{cex.axis}.\n",
       "\\end{ldescription}\n",
       "\\end{Arguments}\n",
       "%\n",
       "\\begin{Details}\\relax\n",
       "\\code{contour} is a generic function with only a default method in\n",
       "base \\R{}.\n",
       "\n",
       "The methods for positioning the labels on contours are \\code{\"simple\"}\n",
       "(draw at the edge of the plot, overlaying the contour line),\n",
       "\\code{\"edge\"} (draw at the edge of the plot, embedded in the contour\n",
       "line, with no labels overlapping) and \\code{\"flattest\"}\n",
       "(draw on the flattest section of the contour, embedded in the\n",
       "contour line, with no labels overlapping).  The second and third may\n",
       "not draw a label on every contour line.\n",
       "\n",
       "For information about vector fonts, see the\n",
       "help for \\code{\\LinkA{text}{text}} and \\code{\\LinkA{Hershey}{Hershey}}.\n",
       "\n",
       "Notice that \\code{contour} interprets the \\code{z} matrix as a table of\n",
       "\\code{f(x[i], y[j])} values, so that the x axis corresponds to row\n",
       "number and the y axis to column number, with column 1 at the bottom,\n",
       "i.e.~a 90 degree counter-clockwise rotation of the conventional textual\n",
       "layout.\n",
       "\n",
       "Alternatively, use \\code{\\LinkA{contourplot}{contourplot}} from the\n",
       "\\Rhref{https://CRAN.R-project.org/package=lattice}{\\pkg{lattice}} package where the \\code{\\LinkA{formula}{formula}} notation allows\n",
       "to use vectors \\code{x}, \\code{y}, and \\code{z} of the same length.\n",
       "\n",
       "There is limited control over the axes and frame as arguments\n",
       "\\code{col}, \\code{lwd} and \\code{lty} refer to the contour lines\n",
       "(rather than being general \\LinkA{graphical parameters}{graphical parameters}).  For more control,\n",
       "add contours to a plot, or add axes and frame to a contour plot.\n",
       "\\end{Details}\n",
       "%\n",
       "\\begin{References}\\relax\n",
       "Becker, R. A., Chambers, J. M. and Wilks, A. R. (1988)\n",
       "\\emph{The New S Language}.\n",
       "Wadsworth \\& Brooks/Cole.\n",
       "\\end{References}\n",
       "%\n",
       "\\begin{SeeAlso}\\relax\n",
       "\\code{\\LinkA{options}{options}(\"max.contour.segments\")} for the maximal\n",
       "complexity of a single contour line.\n",
       "\n",
       "\\code{\\LinkA{contourLines}{contourLines}}, \\code{\\LinkA{filled.contour}{filled.contour}}\n",
       "for color-filled contours,\n",
       "\\code{\\LinkA{contourplot}{contourplot}} (and\n",
       "\\code{\\LinkA{levelplot}{levelplot}}) from package \\Rhref{https://CRAN.R-project.org/package=lattice}{\\pkg{lattice}}.\n",
       "Further, \\code{\\LinkA{image}{image}} and the graphics demo which can be\n",
       "invoked as \\code{demo(graphics)}.\n",
       "\\end{SeeAlso}\n",
       "%\n",
       "\\begin{Examples}\n",
       "\\begin{ExampleCode}\n",
       "require(grDevices) # for colours\n",
       "x <- -6:16\n",
       "op <- par(mfrow = c(2, 2))\n",
       "contour(outer(x, x), method = \"edge\", vfont = c(\"sans serif\", \"plain\"))\n",
       "z <- outer(x, sqrt(abs(x)), FUN = \"/\")\n",
       "image(x, x, z)\n",
       "contour(x, x, z, col = \"pink\", add = TRUE, method = \"edge\",\n",
       "        vfont = c(\"sans serif\", \"plain\"))\n",
       "contour(x, x, z, ylim = c(1, 6), method = \"simple\", labcex = 1,\n",
       "        xlab = quote(x[1]), ylab = quote(x[2]))\n",
       "contour(x, x, z, ylim = c(-6, 6), nlev = 20, lty = 2, method = \"simple\",\n",
       "        main = \"20 levels; \\\"simple\\\" labelling method\")\n",
       "par(op)\n",
       "\n",
       "## Persian Rug Art:\n",
       "x <- y <- seq(-4*pi, 4*pi, len = 27)\n",
       "r <- sqrt(outer(x^2, y^2, \"+\"))\n",
       "opar <- par(mfrow = c(2, 2), mar = rep(0, 4))\n",
       "for(f in pi^(0:3))\n",
       "  contour(cos(r^2)*exp(-r/f),\n",
       "          drawlabels = FALSE, axes = FALSE, frame = TRUE)\n",
       "\n",
       "rx <- range(x <- 10*1:nrow(volcano))\n",
       "ry <- range(y <- 10*1:ncol(volcano))\n",
       "ry <- ry + c(-1, 1) * (diff(rx) - diff(ry))/2\n",
       "tcol <- terrain.colors(12)\n",
       "par(opar); opar <- par(pty = \"s\", bg = \"lightcyan\")\n",
       "plot(x = 0, y = 0, type = \"n\", xlim = rx, ylim = ry, xlab = \"\", ylab = \"\")\n",
       "u <- par(\"usr\")\n",
       "rect(u[1], u[3], u[2], u[4], col = tcol[8], border = \"red\")\n",
       "contour(x, y, volcano, col = tcol[2], lty = \"solid\", add = TRUE,\n",
       "        vfont = c(\"sans serif\", \"plain\"))\n",
       "title(\"A Topographic Map of Maunga Whau\", font = 4)\n",
       "abline(h = 200*0:4, v = 200*0:4, col = \"lightgray\", lty = 2, lwd = 0.1)\n",
       "\n",
       "## contourLines produces the same contour lines as contour\n",
       "plot(x = 0, y = 0, type = \"n\", xlim = rx, ylim = ry, xlab = \"\", ylab = \"\")\n",
       "u <- par(\"usr\")\n",
       "rect(u[1], u[3], u[2], u[4], col = tcol[8], border = \"red\")\n",
       "contour(x, y, volcano, col = tcol[1], lty = \"solid\", add = TRUE,\n",
       "        vfont = c(\"sans serif\", \"plain\"))\n",
       "line.list <- contourLines(x, y, volcano)\n",
       "invisible(lapply(line.list, lines, lwd=3, col=adjustcolor(2, .3)))\n",
       "par(opar)\n",
       "\\end{ExampleCode}\n",
       "\\end{Examples}"
      ],
      "text/plain": [
       "contour                package:graphics                R Documentation\n",
       "\n",
       "_\bD_\bi_\bs_\bp_\bl_\ba_\by _\bC_\bo_\bn_\bt_\bo_\bu_\br_\bs\n",
       "\n",
       "_\bD_\be_\bs_\bc_\br_\bi_\bp_\bt_\bi_\bo_\bn:\n",
       "\n",
       "     Create a contour plot, or add contour lines to an existing plot.\n",
       "\n",
       "_\bU_\bs_\ba_\bg_\be:\n",
       "\n",
       "     contour(x, ...)\n",
       "     \n",
       "     ## Default S3 method:\n",
       "     contour(x = seq(0, 1, length.out = nrow(z)),\n",
       "             y = seq(0, 1, length.out = ncol(z)),\n",
       "             z,\n",
       "             nlevels = 10, levels = pretty(zlim, nlevels),\n",
       "             labels = NULL,\n",
       "             xlim = range(x, finite = TRUE),\n",
       "             ylim = range(y, finite = TRUE),\n",
       "             zlim = range(z, finite = TRUE),\n",
       "             labcex = 0.6, drawlabels = TRUE, method = \"flattest\",\n",
       "             vfont, axes = TRUE, frame.plot = axes,\n",
       "             col = par(\"fg\"), lty = par(\"lty\"), lwd = par(\"lwd\"),\n",
       "             add = FALSE, ...)\n",
       "     \n",
       "_\bA_\br_\bg_\bu_\bm_\be_\bn_\bt_\bs:\n",
       "\n",
       "    x, y: locations of grid lines at which the values in 'z' are\n",
       "          measured.  These must be in ascending order.  By default,\n",
       "          equally spaced values from 0 to 1 are used.  If 'x' is a\n",
       "          'list', its components 'x$x' and 'x$y' are used for 'x' and\n",
       "          'y', respectively. If the list has component 'z' this is used\n",
       "          for 'z'.\n",
       "\n",
       "       z: a matrix containing the values to be plotted ('NA's are\n",
       "          allowed).  Note that 'x' can be used instead of 'z' for\n",
       "          convenience.\n",
       "\n",
       " nlevels: number of contour levels desired *iff* 'levels' is not\n",
       "          supplied.\n",
       "\n",
       "  levels: numeric vector of levels at which to draw contour lines.\n",
       "\n",
       "  labels: a vector giving the labels for the contour lines.  If 'NULL'\n",
       "          then the levels are used as labels, otherwise this is coerced\n",
       "          by 'as.character'.\n",
       "\n",
       "  labcex: 'cex' for contour labelling.  This is an absolute size, not a\n",
       "          multiple of 'par(\"cex\")'.\n",
       "\n",
       "drawlabels: logical.  Contours are labelled if 'TRUE'.\n",
       "\n",
       "  method: character string specifying where the labels will be located.\n",
       "          Possible values are '\"simple\"', '\"edge\"' and '\"flattest\"'\n",
       "          (the default).  See the 'Details' section.\n",
       "\n",
       "   vfont: if 'NULL', the current font family and face are used for the\n",
       "          contour labels.  If a character vector of length 2 then\n",
       "          Hershey vector fonts are used for the contour labels. The\n",
       "          first element of the vector selects a typeface and the second\n",
       "          element selects a fontindex (see 'text' for more\n",
       "          information).  The default is 'NULL' on graphics devices with\n",
       "          high-quality rotation of text and 'c(\"sans serif\", \"plain\")'\n",
       "          otherwise.\n",
       "\n",
       "xlim, ylim, zlim: x-, y- and z-limits for the plot.\n",
       "\n",
       "axes, frame.plot: logical indicating whether axes or a box should be\n",
       "          drawn, see 'plot.default'.\n",
       "\n",
       "     col: color for the lines drawn.\n",
       "\n",
       "     lty: line type for the lines drawn.\n",
       "\n",
       "     lwd: line width for the lines drawn.\n",
       "\n",
       "     add: logical. If 'TRUE', add to a current plot.\n",
       "\n",
       "     ...: additional arguments to 'plot.window', 'title', 'Axis' and\n",
       "          'box', typically graphical parameters such as 'cex.axis'.\n",
       "\n",
       "_\bD_\be_\bt_\ba_\bi_\bl_\bs:\n",
       "\n",
       "     'contour' is a generic function with only a default method in base\n",
       "     R.\n",
       "\n",
       "     The methods for positioning the labels on contours are '\"simple\"'\n",
       "     (draw at the edge of the plot, overlaying the contour line),\n",
       "     '\"edge\"' (draw at the edge of the plot, embedded in the contour\n",
       "     line, with no labels overlapping) and '\"flattest\"' (draw on the\n",
       "     flattest section of the contour, embedded in the contour line,\n",
       "     with no labels overlapping).  The second and third may not draw a\n",
       "     label on every contour line.\n",
       "\n",
       "     For information about vector fonts, see the help for 'text' and\n",
       "     'Hershey'.\n",
       "\n",
       "     Notice that 'contour' interprets the 'z' matrix as a table of\n",
       "     'f(x[i], y[j])' values, so that the x axis corresponds to row\n",
       "     number and the y axis to column number, with column 1 at the\n",
       "     bottom, i.e. a 90 degree counter-clockwise rotation of the\n",
       "     conventional textual layout.\n",
       "\n",
       "     Alternatively, use 'contourplot' from the 'lattice' package where\n",
       "     the 'formula' notation allows to use vectors 'x', 'y', and 'z' of\n",
       "     the same length.\n",
       "\n",
       "     There is limited control over the axes and frame as arguments\n",
       "     'col', 'lwd' and 'lty' refer to the contour lines (rather than\n",
       "     being general graphical parameters).  For more control, add\n",
       "     contours to a plot, or add axes and frame to a contour plot.\n",
       "\n",
       "_\bR_\be_\bf_\be_\br_\be_\bn_\bc_\be_\bs:\n",
       "\n",
       "     Becker, R. A., Chambers, J. M. and Wilks, A. R. (1988) _The New S\n",
       "     Language_.  Wadsworth & Brooks/Cole.\n",
       "\n",
       "_\bS_\be_\be _\bA_\bl_\bs_\bo:\n",
       "\n",
       "     'options(\"max.contour.segments\")' for the maximal complexity of a\n",
       "     single contour line.\n",
       "\n",
       "     'contourLines', 'filled.contour' for color-filled contours,\n",
       "     'contourplot' (and 'levelplot') from package 'lattice'.  Further,\n",
       "     'image' and the graphics demo which can be invoked as\n",
       "     'demo(graphics)'.\n",
       "\n",
       "_\bE_\bx_\ba_\bm_\bp_\bl_\be_\bs:\n",
       "\n",
       "     require(grDevices) # for colours\n",
       "     x <- -6:16\n",
       "     op <- par(mfrow = c(2, 2))\n",
       "     contour(outer(x, x), method = \"edge\", vfont = c(\"sans serif\", \"plain\"))\n",
       "     z <- outer(x, sqrt(abs(x)), FUN = \"/\")\n",
       "     image(x, x, z)\n",
       "     contour(x, x, z, col = \"pink\", add = TRUE, method = \"edge\",\n",
       "             vfont = c(\"sans serif\", \"plain\"))\n",
       "     contour(x, x, z, ylim = c(1, 6), method = \"simple\", labcex = 1,\n",
       "             xlab = quote(x[1]), ylab = quote(x[2]))\n",
       "     contour(x, x, z, ylim = c(-6, 6), nlev = 20, lty = 2, method = \"simple\",\n",
       "             main = \"20 levels; \\\"simple\\\" labelling method\")\n",
       "     par(op)\n",
       "     \n",
       "     ## Persian Rug Art:\n",
       "     x <- y <- seq(-4*pi, 4*pi, len = 27)\n",
       "     r <- sqrt(outer(x^2, y^2, \"+\"))\n",
       "     opar <- par(mfrow = c(2, 2), mar = rep(0, 4))\n",
       "     for(f in pi^(0:3))\n",
       "       contour(cos(r^2)*exp(-r/f),\n",
       "               drawlabels = FALSE, axes = FALSE, frame = TRUE)\n",
       "     \n",
       "     rx <- range(x <- 10*1:nrow(volcano))\n",
       "     ry <- range(y <- 10*1:ncol(volcano))\n",
       "     ry <- ry + c(-1, 1) * (diff(rx) - diff(ry))/2\n",
       "     tcol <- terrain.colors(12)\n",
       "     par(opar); opar <- par(pty = \"s\", bg = \"lightcyan\")\n",
       "     plot(x = 0, y = 0, type = \"n\", xlim = rx, ylim = ry, xlab = \"\", ylab = \"\")\n",
       "     u <- par(\"usr\")\n",
       "     rect(u[1], u[3], u[2], u[4], col = tcol[8], border = \"red\")\n",
       "     contour(x, y, volcano, col = tcol[2], lty = \"solid\", add = TRUE,\n",
       "             vfont = c(\"sans serif\", \"plain\"))\n",
       "     title(\"A Topographic Map of Maunga Whau\", font = 4)\n",
       "     abline(h = 200*0:4, v = 200*0:4, col = \"lightgray\", lty = 2, lwd = 0.1)\n",
       "     \n",
       "     ## contourLines produces the same contour lines as contour\n",
       "     plot(x = 0, y = 0, type = \"n\", xlim = rx, ylim = ry, xlab = \"\", ylab = \"\")\n",
       "     u <- par(\"usr\")\n",
       "     rect(u[1], u[3], u[2], u[4], col = tcol[8], border = \"red\")\n",
       "     contour(x, y, volcano, col = tcol[1], lty = \"solid\", add = TRUE,\n",
       "             vfont = c(\"sans serif\", \"plain\"))\n",
       "     line.list <- contourLines(x, y, volcano)\n",
       "     invisible(lapply(line.list, lines, lwd=3, col=adjustcolor(2, .3)))\n",
       "     par(opar)\n",
       "     "
      ]
     },
     "metadata": {},
     "output_type": "display_data"
    }
   ],
   "source": [
    "#creating contour plot \n",
    "?contour"
   ]
  },
  {
   "cell_type": "code",
   "execution_count": 25,
   "id": "9dbb12ed-2dd6-42be-9c87-a214d870be7a",
   "metadata": {},
   "outputs": [
    {
     "data": {
      "image/png": "[encoded data removed]",
      "text/plain": [
       "plot without title"
      ]
     },
     "metadata": {},
     "output_type": "display_data"
    }
   ],
   "source": [
    "x=seq(-pi,pi,length=50)\n",
    "y=x\n",
    "f=outer(x,y,function(x,y)cos(y)/(1+x^2))\n",
    "contour(x,y,f)\n",
    "contour(x,y,f,nlevels=45,add=T)"
   ]
  },
  {
   "cell_type": "code",
   "execution_count": 26,
   "id": "aac3bc2e-2054-45d7-926f-f06e48016a11",
   "metadata": {},
   "outputs": [
    {
     "data": {
      "image/png": "[encoded data removed]",
      "text/plain": [
       "plot without title"
      ]
     },
     "metadata": {},
     "output_type": "display_data"
    }
   ],
   "source": [
    "#updating the contour\n",
    "fa=(f-t(f))/2\n",
    "contour(x,y,fa,nlevels=15)"
   ]
  },
  {
   "cell_type": "code",
   "execution_count": 29,
   "id": "dbc2b704-fbbe-4738-bb39-d50830bec4b2",
   "metadata": {},
   "outputs": [
    {
     "data": {
      "image/png": "[encoded data removed]",
      "text/plain": [
       "plot without title"
      ]
     },
     "metadata": {},
     "output_type": "display_data"
    },
    {
     "data": {
      "image/png": "[encoded data removed]",
      "text/plain": [
       "plot without title"
      ]
     },
     "metadata": {},
     "output_type": "display_data"
    }
   ],
   "source": [
    "#following image is the colourfull heatmap and persp is 3d image\n",
    "image(x,y,fa) #heatmap\n",
    "persp(x,y,fa) #update the angle using theta= and phi= after vectors"
   ]
  },
  {
   "cell_type": "markdown",
   "id": "01621b37-ce75-43a6-90ef-c0a35b613b86",
   "metadata": {},
   "source": [
    "# Indexing Data"
   ]
  },
  {
   "cell_type": "code",
   "execution_count": 30,
   "id": "b50a9ae1-6923-4598-8ee7-513b452e89b1",
   "metadata": {},
   "outputs": [
    {
     "data": {
      "text/html": [
       "<table>\n",
       "<tbody>\n",
       "\t<tr><td>1 </td><td>5 </td><td> 9</td><td>13</td></tr>\n",
       "\t<tr><td>2 </td><td>6 </td><td>10</td><td>14</td></tr>\n",
       "\t<tr><td>3 </td><td>7 </td><td>11</td><td>15</td></tr>\n",
       "\t<tr><td>4 </td><td>8 </td><td>12</td><td>16</td></tr>\n",
       "</tbody>\n",
       "</table>\n"
      ],
      "text/latex": [
       "\\begin{tabular}{llll}\n",
       "\t 1  & 5  &  9 & 13\\\\\n",
       "\t 2  & 6  & 10 & 14\\\\\n",
       "\t 3  & 7  & 11 & 15\\\\\n",
       "\t 4  & 8  & 12 & 16\\\\\n",
       "\\end{tabular}\n"
      ],
      "text/markdown": [
       "\n",
       "| 1  | 5  |  9 | 13 |\n",
       "| 2  | 6  | 10 | 14 |\n",
       "| 3  | 7  | 11 | 15 |\n",
       "| 4  | 8  | 12 | 16 |\n",
       "\n"
      ],
      "text/plain": [
       "     [,1] [,2] [,3] [,4]\n",
       "[1,] 1    5     9   13  \n",
       "[2,] 2    6    10   14  \n",
       "[3,] 3    7    11   15  \n",
       "[4,] 4    8    12   16  "
      ]
     },
     "metadata": {},
     "output_type": "display_data"
    }
   ],
   "source": [
    "A=matrix(1:16,4,4)\n",
    "A\n",
    "#we will learn about Indexing"
   ]
  },
  {
   "cell_type": "code",
   "execution_count": 31,
   "id": "f18a0245-1411-428f-b7fc-3dfe6abaf732",
   "metadata": {},
   "outputs": [
    {
     "data": {
      "text/html": [
       "10"
      ],
      "text/latex": [
       "10"
      ],
      "text/markdown": [
       "10"
      ],
      "text/plain": [
       "[1] 10"
      ]
     },
     "metadata": {},
     "output_type": "display_data"
    }
   ],
   "source": [
    "A[2,3] #2nd row and 3rd column"
   ]
  },
  {
   "cell_type": "code",
   "execution_count": 32,
   "id": "40d71756-2513-4950-8cfc-f2a0860cb9f1",
   "metadata": {},
   "outputs": [
    {
     "data": {
      "text/html": [
       "<table>\n",
       "<tbody>\n",
       "\t<tr><td>5 </td><td>13</td></tr>\n",
       "\t<tr><td>7 </td><td>15</td></tr>\n",
       "</tbody>\n",
       "</table>\n"
      ],
      "text/latex": [
       "\\begin{tabular}{ll}\n",
       "\t 5  & 13\\\\\n",
       "\t 7  & 15\\\\\n",
       "\\end{tabular}\n"
      ],
      "text/markdown": [
       "\n",
       "| 5  | 13 |\n",
       "| 7  | 15 |\n",
       "\n"
      ],
      "text/plain": [
       "     [,1] [,2]\n",
       "[1,] 5    13  \n",
       "[2,] 7    15  "
      ]
     },
     "metadata": {},
     "output_type": "display_data"
    }
   ],
   "source": [
    "A[c(1,3),c(2,4)]"
   ]
  },
  {
   "cell_type": "code",
   "execution_count": 33,
   "id": "da905a7b-a9e9-4c69-bb6d-cc2aaadc5d06",
   "metadata": {},
   "outputs": [
    {
     "data": {
      "text/html": [
       "<table>\n",
       "<tbody>\n",
       "\t<tr><td>1 </td><td>5 </td><td> 9</td><td>13</td></tr>\n",
       "\t<tr><td>2 </td><td>6 </td><td>10</td><td>14</td></tr>\n",
       "</tbody>\n",
       "</table>\n"
      ],
      "text/latex": [
       "\\begin{tabular}{llll}\n",
       "\t 1  & 5  &  9 & 13\\\\\n",
       "\t 2  & 6  & 10 & 14\\\\\n",
       "\\end{tabular}\n"
      ],
      "text/markdown": [
       "\n",
       "| 1  | 5  |  9 | 13 |\n",
       "| 2  | 6  | 10 | 14 |\n",
       "\n"
      ],
      "text/plain": [
       "     [,1] [,2] [,3] [,4]\n",
       "[1,] 1    5     9   13  \n",
       "[2,] 2    6    10   14  "
      ]
     },
     "metadata": {},
     "output_type": "display_data"
    }
   ],
   "source": [
    "A[1:2,]"
   ]
  },
  {
   "cell_type": "code",
   "execution_count": 34,
   "id": "4e1767af-ae01-49cf-a7f5-bcdaba48d74c",
   "metadata": {},
   "outputs": [
    {
     "data": {
      "text/html": [
       "<ol class=list-inline>\n",
       "\t<li>6</li>\n",
       "\t<li>8</li>\n",
       "</ol>\n"
      ],
      "text/latex": [
       "\\begin{enumerate*}\n",
       "\\item 6\n",
       "\\item 8\n",
       "\\end{enumerate*}\n"
      ],
      "text/markdown": [
       "1. 6\n",
       "2. 8\n",
       "\n",
       "\n"
      ],
      "text/plain": [
       "[1] 6 8"
      ]
     },
     "metadata": {},
     "output_type": "display_data"
    }
   ],
   "source": [
    "A[-c(1,3),-c(1,3,4)] #here - to give output expect those mentioned columns"
   ]
  },
  {
   "cell_type": "code",
   "execution_count": 35,
   "id": "4aebd1b4-0f65-4c4c-9743-a532b097781e",
   "metadata": {},
   "outputs": [
    {
     "data": {
      "text/html": [
       "<ol class=list-inline>\n",
       "\t<li>4</li>\n",
       "\t<li>4</li>\n",
       "</ol>\n"
      ],
      "text/latex": [
       "\\begin{enumerate*}\n",
       "\\item 4\n",
       "\\item 4\n",
       "\\end{enumerate*}\n"
      ],
      "text/markdown": [
       "1. 4\n",
       "2. 4\n",
       "\n",
       "\n"
      ],
      "text/plain": [
       "[1] 4 4"
      ]
     },
     "metadata": {},
     "output_type": "display_data"
    }
   ],
   "source": [
    "dim(A)"
   ]
  },
  {
   "cell_type": "markdown",
   "id": "c18c3176-6baa-4937-bb17-b781ad07ee44",
   "metadata": {},
   "source": [
    "# Loading Data"
   ]
  },
  {
   "cell_type": "code",
   "execution_count": 36,
   "id": "42f256ad-57c5-4817-9195-4decda96fc0a",
   "metadata": {},
   "outputs": [],
   "source": [
    "#reading table data\n",
    "Auto=read.table(\"Auto.data\")\n",
    "fix(Auto)"
   ]
  },
  {
   "cell_type": "code",
   "execution_count": 38,
   "id": "97f80690-7854-44dc-a5c6-11312592ccf0",
   "metadata": {},
   "outputs": [],
   "source": [
    "#fixing the feauture names\n",
    "Auto=read.table(\"Auto.data\",header=T,na.strings=\"?\")\n",
    "fix(Auto)"
   ]
  },
  {
   "cell_type": "markdown",
   "id": "628bbfd4-eac7-4c55-b793-e2146ebd4845",
   "metadata": {},
   "source": [
    "## reading csv"
   ]
  },
  {
   "cell_type": "code",
   "execution_count": 40,
   "id": "55a208e2-354a-4e79-9954-1dfa058371ab",
   "metadata": {},
   "outputs": [],
   "source": [
    "Auto=read.csv(\"Auto.csv\",header=T,na.strings=\"?\")\n",
    "fix(Auto) #this is to preview the data"
   ]
  },
  {
   "cell_type": "code",
   "execution_count": 42,
   "id": "5f96e5cf-99ba-45ff-be10-ff8ecbd0db5b",
   "metadata": {},
   "outputs": [
    {
     "data": {
      "text/html": [
       "<ol class=list-inline>\n",
       "\t<li>397</li>\n",
       "\t<li>9</li>\n",
       "</ol>\n"
      ],
      "text/latex": [
       "\\begin{enumerate*}\n",
       "\\item 397\n",
       "\\item 9\n",
       "\\end{enumerate*}\n"
      ],
      "text/markdown": [
       "1. 397\n",
       "2. 9\n",
       "\n",
       "\n"
      ],
      "text/plain": [
       "[1] 397   9"
      ]
     },
     "metadata": {},
     "output_type": "display_data"
    }
   ],
   "source": [
    "dim(Auto) #shape of data"
   ]
  },
  {
   "cell_type": "code",
   "execution_count": 44,
   "id": "7fda7778-252a-45e0-911a-355fd30f6dae",
   "metadata": {},
   "outputs": [
    {
     "data": {
      "text/html": [
       "<table>\n",
       "<thead><tr><th scope=col>mpg</th><th scope=col>cylinders</th><th scope=col>displacement</th><th scope=col>horsepower</th><th scope=col>weight</th><th scope=col>acceleration</th><th scope=col>year</th><th scope=col>origin</th><th scope=col>name</th></tr></thead>\n",
       "<tbody>\n",
       "\t<tr><td>18                       </td><td>8                        </td><td>307                      </td><td>130                      </td><td>3504                     </td><td>12.0                     </td><td>70                       </td><td>1                        </td><td>chevrolet chevelle malibu</td></tr>\n",
       "\t<tr><td>15                       </td><td>8                        </td><td>350                      </td><td>165                      </td><td>3693                     </td><td>11.5                     </td><td>70                       </td><td>1                        </td><td>buick skylark 320        </td></tr>\n",
       "\t<tr><td>18                       </td><td>8                        </td><td>318                      </td><td>150                      </td><td>3436                     </td><td>11.0                     </td><td>70                       </td><td>1                        </td><td>plymouth satellite       </td></tr>\n",
       "\t<tr><td>16                       </td><td>8                        </td><td>304                      </td><td>150                      </td><td>3433                     </td><td>12.0                     </td><td>70                       </td><td>1                        </td><td>amc rebel sst            </td></tr>\n",
       "</tbody>\n",
       "</table>\n"
      ],
      "text/latex": [
       "\\begin{tabular}{r|lllllllll}\n",
       " mpg & cylinders & displacement & horsepower & weight & acceleration & year & origin & name\\\\\n",
       "\\hline\n",
       "\t 18                        & 8                         & 307                       & 130                       & 3504                      & 12.0                      & 70                        & 1                         & chevrolet chevelle malibu\\\\\n",
       "\t 15                        & 8                         & 350                       & 165                       & 3693                      & 11.5                      & 70                        & 1                         & buick skylark 320        \\\\\n",
       "\t 18                        & 8                         & 318                       & 150                       & 3436                      & 11.0                      & 70                        & 1                         & plymouth satellite       \\\\\n",
       "\t 16                        & 8                         & 304                       & 150                       & 3433                      & 12.0                      & 70                        & 1                         & amc rebel sst            \\\\\n",
       "\\end{tabular}\n"
      ],
      "text/markdown": [
       "\n",
       "| mpg | cylinders | displacement | horsepower | weight | acceleration | year | origin | name |\n",
       "|---|---|---|---|---|---|---|---|---|\n",
       "| 18                        | 8                         | 307                       | 130                       | 3504                      | 12.0                      | 70                        | 1                         | chevrolet chevelle malibu |\n",
       "| 15                        | 8                         | 350                       | 165                       | 3693                      | 11.5                      | 70                        | 1                         | buick skylark 320         |\n",
       "| 18                        | 8                         | 318                       | 150                       | 3436                      | 11.0                      | 70                        | 1                         | plymouth satellite        |\n",
       "| 16                        | 8                         | 304                       | 150                       | 3433                      | 12.0                      | 70                        | 1                         | amc rebel sst             |\n",
       "\n"
      ],
      "text/plain": [
       "  mpg cylinders displacement horsepower weight acceleration year origin\n",
       "1 18  8         307          130        3504   12.0         70   1     \n",
       "2 15  8         350          165        3693   11.5         70   1     \n",
       "3 18  8         318          150        3436   11.0         70   1     \n",
       "4 16  8         304          150        3433   12.0         70   1     \n",
       "  name                     \n",
       "1 chevrolet chevelle malibu\n",
       "2 buick skylark 320        \n",
       "3 plymouth satellite       \n",
       "4 amc rebel sst            "
      ]
     },
     "metadata": {},
     "output_type": "display_data"
    }
   ],
   "source": [
    "#first 4 rows\n",
    "Auto[1:4,]"
   ]
  },
  {
   "cell_type": "code",
   "execution_count": 45,
   "id": "f92d019a-940e-4a3d-a4d4-fdee393c1442",
   "metadata": {},
   "outputs": [
    {
     "data": {
      "text/html": [
       "<ol class=list-inline>\n",
       "\t<li>392</li>\n",
       "\t<li>9</li>\n",
       "</ol>\n"
      ],
      "text/latex": [
       "\\begin{enumerate*}\n",
       "\\item 392\n",
       "\\item 9\n",
       "\\end{enumerate*}\n"
      ],
      "text/markdown": [
       "1. 392\n",
       "2. 9\n",
       "\n",
       "\n"
      ],
      "text/plain": [
       "[1] 392   9"
      ]
     },
     "metadata": {},
     "output_type": "display_data"
    }
   ],
   "source": [
    "#removing null values and clearing the dataset\n",
    "Auto=na.omit(Auto)\n",
    "dim(Auto)"
   ]
  },
  {
   "cell_type": "raw",
   "id": "69b5110b-28c4-4d2a-8c27-4bc70df00018",
   "metadata": {},
   "source": [
    "5 rows got deleted"
   ]
  },
  {
   "cell_type": "code",
   "execution_count": 47,
   "id": "301b523d-7957-4755-9afa-089adb49de76",
   "metadata": {},
   "outputs": [
    {
     "data": {
      "text/html": [
       "<ol class=list-inline>\n",
       "\t<li>'mpg'</li>\n",
       "\t<li>'cylinders'</li>\n",
       "\t<li>'displacement'</li>\n",
       "\t<li>'horsepower'</li>\n",
       "\t<li>'weight'</li>\n",
       "\t<li>'acceleration'</li>\n",
       "\t<li>'year'</li>\n",
       "\t<li>'origin'</li>\n",
       "\t<li>'name'</li>\n",
       "</ol>\n"
      ],
      "text/latex": [
       "\\begin{enumerate*}\n",
       "\\item 'mpg'\n",
       "\\item 'cylinders'\n",
       "\\item 'displacement'\n",
       "\\item 'horsepower'\n",
       "\\item 'weight'\n",
       "\\item 'acceleration'\n",
       "\\item 'year'\n",
       "\\item 'origin'\n",
       "\\item 'name'\n",
       "\\end{enumerate*}\n"
      ],
      "text/markdown": [
       "1. 'mpg'\n",
       "2. 'cylinders'\n",
       "3. 'displacement'\n",
       "4. 'horsepower'\n",
       "5. 'weight'\n",
       "6. 'acceleration'\n",
       "7. 'year'\n",
       "8. 'origin'\n",
       "9. 'name'\n",
       "\n",
       "\n"
      ],
      "text/plain": [
       "[1] \"mpg\"          \"cylinders\"    \"displacement\" \"horsepower\"   \"weight\"      \n",
       "[6] \"acceleration\" \"year\"         \"origin\"       \"name\"        "
      ]
     },
     "metadata": {},
     "output_type": "display_data"
    }
   ],
   "source": [
    "names(Auto) #column info"
   ]
  },
  {
   "cell_type": "markdown",
   "id": "4432c000-30b1-41f9-bcc6-ca722b4881ad",
   "metadata": {},
   "source": [
    "# Additional Graphical and Numerical Summaries"
   ]
  },
  {
   "cell_type": "code",
   "execution_count": 48,
   "id": "87eeaa87-4859-45a1-ab0f-90265c848114",
   "metadata": {},
   "outputs": [
    {
     "ename": "ERROR",
     "evalue": "Error in plot(cylinders, mpg): object 'cylinders' not found\n",
     "output_type": "error",
     "traceback": [
      "Error in plot(cylinders, mpg): object 'cylinders' not found\nTraceback:\n",
      "1. plot(cylinders, mpg)"
     ]
    }
   ],
   "source": [
    "plot(cylinders, mpg)"
   ]
  },
  {
   "cell_type": "raw",
   "id": "d6749cc2-eec1-465f-a7ee-7110f9bc3894",
   "metadata": {},
   "source": [
    "The error naturally comes cause the system can't detect the dataframe from where the features are"
   ]
  },
  {
   "cell_type": "code",
   "execution_count": 50,
   "id": "bef028b3-46d2-44b4-a9f2-8ae272834b06",
   "metadata": {},
   "outputs": [
    {
     "data": {
      "image/png": "[encoded data removed]",
      "text/plain": [
       "plot without title"
      ]
     },
     "metadata": {},
     "output_type": "display_data"
    }
   ],
   "source": [
    "plot(Auto$cylinders, Auto$mpg) #this is now plots are made"
   ]
  },
  {
   "cell_type": "code",
   "execution_count": 53,
   "id": "6fee8737-32c5-462f-8641-7fbb89735a11",
   "metadata": {},
   "outputs": [
    {
     "name": "stderr",
     "output_type": "stream",
     "text": [
      "The following objects are masked from Auto (pos = 3):\n",
      "\n",
      "    acceleration, cylinders, displacement, horsepower, mpg, name,\n",
      "    origin, weight, year\n",
      "\n",
      "The following objects are masked from Auto (pos = 4):\n",
      "\n",
      "    acceleration, cylinders, displacement, horsepower, mpg, name,\n",
      "    origin, weight, year\n",
      "\n"
     ]
    }
   ],
   "source": [
    "attach(Auto) \n",
    "#from now on all plot features can be given without string sign"
   ]
  },
  {
   "cell_type": "code",
   "execution_count": 54,
   "id": "e79f4abc-05c3-4669-bc69-b2fd24e36fd4",
   "metadata": {},
   "outputs": [
    {
     "data": {
      "image/png": "[encoded data removed]",
      "text/plain": [
       "plot without title"
      ]
     },
     "metadata": {},
     "output_type": "display_data"
    }
   ],
   "source": [
    "plot(cylinders, mpg)"
   ]
  },
  {
   "cell_type": "code",
   "execution_count": 55,
   "id": "1299c068-776b-40a6-b4f7-d36ebd128150",
   "metadata": {},
   "outputs": [],
   "source": [
    "cylinders=as.factor(cylinders) #updating the form"
   ]
  },
  {
   "cell_type": "code",
   "execution_count": 57,
   "id": "a6a8c358-c319-445d-8b54-10f9be24bc1a",
   "metadata": {},
   "outputs": [
    {
     "data": {
      "image/png": "[encoded data removed]",
      "text/plain": [
       "plot without title"
      ]
     },
     "metadata": {},
     "output_type": "display_data"
    }
   ],
   "source": [
    "plot(cylinders, mpg) #boxplot"
   ]
  },
  {
   "cell_type": "code",
   "execution_count": 61,
   "id": "ccc48f6e-c3fc-41c4-8b12-249b082c02c0",
   "metadata": {},
   "outputs": [
    {
     "data": {
      "image/png": "[encoded data removed]",
      "text/plain": [
       "plot without title"
      ]
     },
     "metadata": {},
     "output_type": "display_data"
    }
   ],
   "source": [
    "plot(cylinders, mpg, col=\"red\") #coloured boxplot"
   ]
  },
  {
   "cell_type": "code",
   "execution_count": 62,
   "id": "a2f1d6aa-5cae-4935-9e8f-9ec3f1f47fcd",
   "metadata": {},
   "outputs": [
    {
     "data": {
      "image/png": "[encoded data removed]",
      "text/plain": [
       "Plot with title \"Boxplot\""
      ]
     },
     "metadata": {},
     "output_type": "display_data"
    }
   ],
   "source": [
    "plot(cylinders, mpg, col=\"red\", varwidth=T, xlab=\"cylinders\", ylab=\"MPG\",main='Boxplot') #define boxplot"
   ]
  },
  {
   "cell_type": "code",
   "execution_count": 63,
   "id": "53a36edb-670b-40aa-9284-89bf77c70c29",
   "metadata": {},
   "outputs": [
    {
     "data": {
      "image/png": "[encoded data removed]",
      "text/plain": [
       "Plot with title \"Histogram of mpg\""
      ]
     },
     "metadata": {},
     "output_type": "display_data"
    }
   ],
   "source": [
    "hist(mpg) #histogram"
   ]
  },
  {
   "cell_type": "code",
   "execution_count": 64,
   "id": "1e6e1ef2-7fa7-4734-bdd1-a5d774bbd1a2",
   "metadata": {},
   "outputs": [
    {
     "data": {
      "image/png": "[encoded data removed]",
      "text/plain": [
       "Plot with title \"Histogram of mpg\""
      ]
     },
     "metadata": {},
     "output_type": "display_data"
    }
   ],
   "source": [
    "hist(mpg,col=2,breaks=15) #updated histogram"
   ]
  },
  {
   "cell_type": "code",
   "execution_count": 65,
   "id": "f4927c1c-b9d2-4fef-ad0f-827ff8b24555",
   "metadata": {},
   "outputs": [
    {
     "data": {
      "image/png": "[encoded data removed]",
      "text/plain": [
       "plot without title"
      ]
     },
     "metadata": {},
     "output_type": "display_data"
    }
   ],
   "source": [
    "pairs(Auto) #pairplot"
   ]
  },
  {
   "cell_type": "code",
   "execution_count": 66,
   "id": "0e452ec4-3bf6-49d3-8f52-c4c0188f3143",
   "metadata": {},
   "outputs": [
    {
     "data": {
      "image/png": "[encoded data removed]",
      "text/plain": [
       "plot without title"
      ]
     },
     "metadata": {},
     "output_type": "display_data"
    }
   ],
   "source": [
    "pairs(~ mpg + displacement + horsepower + weight + acceleration, Auto) #predefined pairplot"
   ]
  },
  {
   "cell_type": "code",
   "execution_count": 68,
   "id": "eb5f75f7-3291-4b0b-a11e-06b9849f0c04",
   "metadata": {},
   "outputs": [
    {
     "data": {
      "image/png": "[encoded data removed]",
      "text/plain": [
       "plot without title"
      ]
     },
     "metadata": {},
     "output_type": "display_data"
    }
   ],
   "source": [
    "plot(horsepower,mpg) #scatterplots"
   ]
  },
  {
   "cell_type": "code",
   "execution_count": 73,
   "id": "64d1959f-7cf6-4d06-9948-ae1875224051",
   "metadata": {},
   "outputs": [
    {
     "ename": "ERROR",
     "evalue": "Error in identify.default(horsepower, mpg, name): plot.new has not been called yet\n",
     "output_type": "error",
     "traceback": [
      "Error in identify.default(horsepower, mpg, name): plot.new has not been called yet\nTraceback:\n",
      "1. identify(horsepower, mpg, name)",
      "2. identify.default(horsepower, mpg, name)"
     ]
    }
   ],
   "source": [
    "#identify() showed error for me\n",
    "identify(horsepower,mpg,name)\n",
    "#Error in identify.default(horsepower, mpg, name): plot.new has not been called yet\n",
    "#Traceback:\n",
    "\n",
    "#1. identify(horsepower, mpg, name)\n",
    "#2. identify.default(horsepower, mpg, name)\n"
   ]
  },
  {
   "cell_type": "code",
   "execution_count": 74,
   "id": "ff27e50a-5a8e-4d37-9f45-d27a5497fe6e",
   "metadata": {},
   "outputs": [
    {
     "data": {
      "text/plain": [
       "      mpg          cylinders      displacement     horsepower        weight    \n",
       " Min.   : 9.00   Min.   :3.000   Min.   : 68.0   Min.   : 46.0   Min.   :1613  \n",
       " 1st Qu.:17.00   1st Qu.:4.000   1st Qu.:105.0   1st Qu.: 75.0   1st Qu.:2225  \n",
       " Median :22.75   Median :4.000   Median :151.0   Median : 93.5   Median :2804  \n",
       " Mean   :23.45   Mean   :5.472   Mean   :194.4   Mean   :104.5   Mean   :2978  \n",
       " 3rd Qu.:29.00   3rd Qu.:8.000   3rd Qu.:275.8   3rd Qu.:126.0   3rd Qu.:3615  \n",
       " Max.   :46.60   Max.   :8.000   Max.   :455.0   Max.   :230.0   Max.   :5140  \n",
       "                                                                               \n",
       "  acceleration        year           origin                      name    \n",
       " Min.   : 8.00   Min.   :70.00   Min.   :1.000   amc matador       :  5  \n",
       " 1st Qu.:13.78   1st Qu.:73.00   1st Qu.:1.000   ford pinto        :  5  \n",
       " Median :15.50   Median :76.00   Median :1.000   toyota corolla    :  5  \n",
       " Mean   :15.54   Mean   :75.98   Mean   :1.577   amc gremlin       :  4  \n",
       " 3rd Qu.:17.02   3rd Qu.:79.00   3rd Qu.:2.000   amc hornet        :  4  \n",
       " Max.   :24.80   Max.   :82.00   Max.   :3.000   chevrolet chevette:  4  \n",
       "                                                 (Other)           :365  "
      ]
     },
     "metadata": {},
     "output_type": "display_data"
    }
   ],
   "source": [
    "#whole summrary of Auto dataset\n",
    "summary(Auto)"
   ]
  },
  {
   "cell_type": "code",
   "execution_count": 75,
   "id": "fe5bc1c6-5822-435a-9268-f379f97cf8cb",
   "metadata": {},
   "outputs": [
    {
     "data": {
      "text/plain": [
       "   Min. 1st Qu.  Median    Mean 3rd Qu.    Max. \n",
       "   9.00   17.00   22.75   23.45   29.00   46.60 "
      ]
     },
     "metadata": {},
     "output_type": "display_data"
    }
   ],
   "source": [
    "#we can also see summary of particular features\n",
    "summary(mpg)"
   ]
  },
  {
   "cell_type": "markdown",
   "id": "ed094a76-4e1f-464e-9a93-ba5bd5ae8f10",
   "metadata": {},
   "source": [
    "# END"
   ]
  }
 ],
 "metadata": {
  "kernelspec": {
   "display_name": "R",
   "language": "R",
   "name": "ir"
  },
  "language_info": {
   "codemirror_mode": "r",
   "file_extension": ".r",
   "mimetype": "text/x-r-source",
   "name": "R",
   "pygments_lexer": "r",
   "version": "3.6.1"
  }
 },
 "nbformat": 4,
 "nbformat_minor": 5
}
